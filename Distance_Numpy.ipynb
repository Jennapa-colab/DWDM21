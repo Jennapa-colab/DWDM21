{
  "nbformat": 4,
  "nbformat_minor": 0,
  "metadata": {
    "colab": {
      "name": "Distance_Numpy.ipynb",
      "provenance": [],
      "authorship_tag": "ABX9TyMc6N4aaCZMQRt2uzEEvcyx",
      "include_colab_link": true
    },
    "kernelspec": {
      "name": "python3",
      "display_name": "Python 3"
    },
    "language_info": {
      "name": "python"
    }
  },
  "cells": [
    {
      "cell_type": "markdown",
      "metadata": {
        "id": "view-in-github",
        "colab_type": "text"
      },
      "source": [
        "<a href=\"https://colab.research.google.com/github/Jennapa-colab/DWDM21/blob/main/Distance_Numpy.ipynb\" target=\"_parent\"><img src=\"https://colab.research.google.com/assets/colab-badge.svg\" alt=\"Open In Colab\"/></a>"
      ]
    },
    {
      "cell_type": "code",
      "metadata": {
        "id": "HUv_ycgRO_m2"
      },
      "source": [
        "import numpy as np \n",
        "#การรับทำงานกับ ข้อมูลที่เป็นตัวเลข (อยู่ในรูปแบบ Matrix)"
      ],
      "execution_count": 65,
      "outputs": []
    },
    {
      "cell_type": "markdown",
      "metadata": {
        "id": "vI74BEqtPGLq"
      },
      "source": [
        "##Numpy Array\n"
      ]
    },
    {
      "cell_type": "markdown",
      "metadata": {
        "id": "8ynJ9grWXRy-"
      },
      "source": [
        ""
      ]
    },
    {
      "cell_type": "markdown",
      "metadata": {
        "id": "5cVzZd-NPbAO"
      },
      "source": [
        "##สร้าง numpy array"
      ]
    },
    {
      "cell_type": "code",
      "metadata": {
        "id": "g2180ld9PdGX"
      },
      "source": [
        "np_a = np.array([[1,2,3],[4,5,6]]) \n",
        "# สร้าง numpy array ที่มี 2 เเถว 3 หลัก สร้าง matrix จาก list"
      ],
      "execution_count": 66,
      "outputs": []
    },
    {
      "cell_type": "code",
      "metadata": {
        "colab": {
          "base_uri": "https://localhost:8080/"
        },
        "id": "xJlvtMwjPag6",
        "outputId": "2287ab5e-f0ec-47bc-986e-173ef3c540fc"
      },
      "source": [
        "np_a"
      ],
      "execution_count": 67,
      "outputs": [
        {
          "output_type": "execute_result",
          "data": {
            "text/plain": [
              "array([[1, 2, 3],\n",
              "       [4, 5, 6]])"
            ]
          },
          "metadata": {},
          "execution_count": 67
        }
      ]
    },
    {
      "cell_type": "code",
      "metadata": {
        "colab": {
          "base_uri": "https://localhost:8080/"
        },
        "id": "DFezv6nlPln3",
        "outputId": "4f7bf6a5-0873-410a-9d0a-8e5c324bd7bc"
      },
      "source": [
        "np_a.shape \n",
        "# เช็คขนาด (เเถว,หลัก)"
      ],
      "execution_count": 68,
      "outputs": [
        {
          "output_type": "execute_result",
          "data": {
            "text/plain": [
              "(2, 3)"
            ]
          },
          "metadata": {},
          "execution_count": 68
        }
      ]
    },
    {
      "cell_type": "code",
      "metadata": {
        "colab": {
          "base_uri": "https://localhost:8080/"
        },
        "id": "Uu_ZD14BP0AJ",
        "outputId": "17738cf0-6b73-4824-b3b7-dbe28aedac64"
      },
      "source": [
        "np_b = np.array([[1,4],[2,5],[3,6]])\n",
        "np_b"
      ],
      "execution_count": 69,
      "outputs": [
        {
          "output_type": "execute_result",
          "data": {
            "text/plain": [
              "array([[1, 4],\n",
              "       [2, 5],\n",
              "       [3, 6]])"
            ]
          },
          "metadata": {},
          "execution_count": 69
        }
      ]
    },
    {
      "cell_type": "markdown",
      "metadata": {
        "id": "Q3OHEk70PXqt"
      },
      "source": [
        "##matrix transpose"
      ]
    },
    {
      "cell_type": "code",
      "metadata": {
        "colab": {
          "base_uri": "https://localhost:8080/"
        },
        "id": "qv-lG3S1QaWR",
        "outputId": "e9690a2e-831d-45c1-f8c4-090afae25255"
      },
      "source": [
        "np_a.T"
      ],
      "execution_count": 70,
      "outputs": [
        {
          "output_type": "execute_result",
          "data": {
            "text/plain": [
              "array([[1, 4],\n",
              "       [2, 5],\n",
              "       [3, 6]])"
            ]
          },
          "metadata": {},
          "execution_count": 70
        }
      ]
    },
    {
      "cell_type": "markdown",
      "metadata": {
        "id": "CHNYurcGQedu"
      },
      "source": [
        "##สร้าง matrix เริ่มต้น (zeros,ones)"
      ]
    },
    {
      "cell_type": "code",
      "metadata": {
        "colab": {
          "base_uri": "https://localhost:8080/"
        },
        "id": "hqx7pP1wQkvy",
        "outputId": "7c03272e-2fdf-43ef-f660-809c67685b12"
      },
      "source": [
        "np_z = np.zeros((4,5))   # matrix เริ่มต้นคือ matrix ที่กำหนดค่าให้เป็น 0,1\n",
        "np_z"
      ],
      "execution_count": 71,
      "outputs": [
        {
          "output_type": "execute_result",
          "data": {
            "text/plain": [
              "array([[0., 0., 0., 0., 0.],\n",
              "       [0., 0., 0., 0., 0.],\n",
              "       [0., 0., 0., 0., 0.],\n",
              "       [0., 0., 0., 0., 0.]])"
            ]
          },
          "metadata": {},
          "execution_count": 71
        }
      ]
    },
    {
      "cell_type": "code",
      "metadata": {
        "colab": {
          "base_uri": "https://localhost:8080/"
        },
        "id": "xDdTEFxcQnf_",
        "outputId": "f20f1a98-52ea-4c23-e782-299f7d097a19"
      },
      "source": [
        "np_o = np.ones((5,6))\n",
        "np_o"
      ],
      "execution_count": 72,
      "outputs": [
        {
          "output_type": "execute_result",
          "data": {
            "text/plain": [
              "array([[1., 1., 1., 1., 1., 1.],\n",
              "       [1., 1., 1., 1., 1., 1.],\n",
              "       [1., 1., 1., 1., 1., 1.],\n",
              "       [1., 1., 1., 1., 1., 1.],\n",
              "       [1., 1., 1., 1., 1., 1.]])"
            ]
          },
          "metadata": {},
          "execution_count": 72
        }
      ]
    },
    {
      "cell_type": "code",
      "metadata": {
        "colab": {
          "base_uri": "https://localhost:8080/"
        },
        "id": "mTVgEeovQ0PW",
        "outputId": "acffc3c5-5f77-494b-f9e2-ccddf3d71390"
      },
      "source": [
        "np_200 = 200 * np.ones((4,7))\n",
        "np_200 # ทำเป็นค่า 200 ทุกค่าใน matrix เอา 200 "
      ],
      "execution_count": 73,
      "outputs": [
        {
          "output_type": "execute_result",
          "data": {
            "text/plain": [
              "array([[200., 200., 200., 200., 200., 200., 200.],\n",
              "       [200., 200., 200., 200., 200., 200., 200.],\n",
              "       [200., 200., 200., 200., 200., 200., 200.],\n",
              "       [200., 200., 200., 200., 200., 200., 200.]])"
            ]
          },
          "metadata": {},
          "execution_count": 73
        }
      ]
    },
    {
      "cell_type": "markdown",
      "metadata": {
        "id": "ToJxUq-3RQTi"
      },
      "source": [
        "##สร้าง matrix random ค่าเเบบมั่ว"
      ]
    },
    {
      "cell_type": "code",
      "metadata": {
        "colab": {
          "base_uri": "https://localhost:8080/"
        },
        "id": "5rChUuwMRT2D",
        "outputId": "b4dd61d1-de5c-4f03-8e22-e27b1a582ef6"
      },
      "source": [
        "np.random.randn(5,5) \n",
        "#random เลขมาจาก normal distribution ที่มี mu=0 std=1"
      ],
      "execution_count": 74,
      "outputs": [
        {
          "output_type": "execute_result",
          "data": {
            "text/plain": [
              "array([[ 1.15972303,  0.22175045,  0.16115032,  0.3528784 , -1.34508392],\n",
              "       [-0.28573037,  1.01488824, -2.40538071,  2.54910871, -1.06827415],\n",
              "       [-0.0649806 ,  1.01264414,  0.16330627, -1.73396169,  0.65439273],\n",
              "       [-0.35272543, -0.25024803, -1.12866593,  0.08069444, -0.08645271],\n",
              "       [-0.87280365,  0.85602759, -0.45056601,  0.31304395,  0.04943395]])"
            ]
          },
          "metadata": {},
          "execution_count": 74
        }
      ]
    },
    {
      "cell_type": "code",
      "metadata": {
        "colab": {
          "base_uri": "https://localhost:8080/"
        },
        "id": "s6wY804xSOxM",
        "outputId": "11f9a76e-eadc-4794-85b6-15bb8511bfa6"
      },
      "source": [
        "2+(5*np.random.randn(3,3)) \n",
        "#normal distribution ที่มี mu=2 std=5"
      ],
      "execution_count": 75,
      "outputs": [
        {
          "output_type": "execute_result",
          "data": {
            "text/plain": [
              "array([[ 7.76723185,  8.23642664,  5.792809  ],\n",
              "       [-0.62937498,  0.46907494,  3.95071562],\n",
              "       [13.60951115,  2.46797444, -0.33268189]])"
            ]
          },
          "metadata": {},
          "execution_count": 75
        }
      ]
    },
    {
      "cell_type": "code",
      "metadata": {
        "colab": {
          "base_uri": "https://localhost:8080/"
        },
        "id": "kYXlJjzoRRdI",
        "outputId": "aa4d7caa-3e39-401d-a402-d5c07ae398e5"
      },
      "source": [
        "np.random.randint(5,11,(4,5)) \n",
        "#ค่าตั้งเเต่ระหว่าง 5 ถึง 10 (5,11,(ขนาด 4x5))"
      ],
      "execution_count": 76,
      "outputs": [
        {
          "output_type": "execute_result",
          "data": {
            "text/plain": [
              "array([[ 6,  6,  6,  7,  6],\n",
              "       [ 6,  8,  7, 10,  9],\n",
              "       [ 5,  8,  5,  7, 10],\n",
              "       [ 5, 10,  9,  6,  6]])"
            ]
          },
          "metadata": {},
          "execution_count": 76
        }
      ]
    },
    {
      "cell_type": "markdown",
      "metadata": {
        "id": "Yq55s4HJZoQW"
      },
      "source": [
        "##matrix properties"
      ]
    },
    {
      "cell_type": "code",
      "metadata": {
        "colab": {
          "base_uri": "https://localhost:8080/"
        },
        "id": "ZeSZRoZ2ZnJJ",
        "outputId": "b8acb327-ec47-4d89-bce6-f3ef6c4c82e7"
      },
      "source": [
        "np_a"
      ],
      "execution_count": 77,
      "outputs": [
        {
          "output_type": "execute_result",
          "data": {
            "text/plain": [
              "array([[1, 2, 3],\n",
              "       [4, 5, 6]])"
            ]
          },
          "metadata": {},
          "execution_count": 77
        }
      ]
    },
    {
      "cell_type": "code",
      "metadata": {
        "colab": {
          "base_uri": "https://localhost:8080/"
        },
        "id": "PlDx2DqBZr_B",
        "outputId": "ca1bd46c-f74b-424b-abfc-4b6be99e9039"
      },
      "source": [
        "np_a.T  #transpose"
      ],
      "execution_count": 78,
      "outputs": [
        {
          "output_type": "execute_result",
          "data": {
            "text/plain": [
              "array([[1, 4],\n",
              "       [2, 5],\n",
              "       [3, 6]])"
            ]
          },
          "metadata": {},
          "execution_count": 78
        }
      ]
    },
    {
      "cell_type": "code",
      "metadata": {
        "colab": {
          "base_uri": "https://localhost:8080/"
        },
        "id": "wQbx1OQLaLvp",
        "outputId": "7a40daad-ed74-4e4d-fd01-a6794ce3c88e"
      },
      "source": [
        "1 + np_a  #adding scalar to matrix"
      ],
      "execution_count": 79,
      "outputs": [
        {
          "output_type": "execute_result",
          "data": {
            "text/plain": [
              "array([[2, 3, 4],\n",
              "       [5, 6, 7]])"
            ]
          },
          "metadata": {},
          "execution_count": 79
        }
      ]
    },
    {
      "cell_type": "code",
      "metadata": {
        "colab": {
          "base_uri": "https://localhost:8080/"
        },
        "id": "aOmkJlyeaRwp",
        "outputId": "3374bae2-db12-447f-b6a4-8289690872ea"
      },
      "source": [
        "2 * np_a  #multipling scalar to matrix"
      ],
      "execution_count": 80,
      "outputs": [
        {
          "output_type": "execute_result",
          "data": {
            "text/plain": [
              "array([[ 2,  4,  6],\n",
              "       [ 8, 10, 12]])"
            ]
          },
          "metadata": {},
          "execution_count": 80
        }
      ]
    },
    {
      "cell_type": "code",
      "metadata": {
        "colab": {
          "base_uri": "https://localhost:8080/"
        },
        "id": "ov_Ogx0KaVM_",
        "outputId": "c01f72c4-e705-4ccd-f868-0dffaf51f5b9"
      },
      "source": [
        "np_c = np.array([[6,5,4],[3,2,1]])\n",
        "np_c"
      ],
      "execution_count": 81,
      "outputs": [
        {
          "output_type": "execute_result",
          "data": {
            "text/plain": [
              "array([[6, 5, 4],\n",
              "       [3, 2, 1]])"
            ]
          },
          "metadata": {},
          "execution_count": 81
        }
      ]
    },
    {
      "cell_type": "code",
      "metadata": {
        "colab": {
          "base_uri": "https://localhost:8080/"
        },
        "id": "n1cPNzxSaZEW",
        "outputId": "d784a232-03a8-4187-b6de-121716de83d4"
      },
      "source": [
        "np_a + np_c  #adding matrix to matrix"
      ],
      "execution_count": 82,
      "outputs": [
        {
          "output_type": "execute_result",
          "data": {
            "text/plain": [
              "array([[7, 7, 7],\n",
              "       [7, 7, 7]])"
            ]
          },
          "metadata": {},
          "execution_count": 82
        }
      ]
    },
    {
      "cell_type": "code",
      "metadata": {
        "colab": {
          "base_uri": "https://localhost:8080/"
        },
        "id": "73Bjj7oGabuQ",
        "outputId": "1eaa3103-1512-4374-cf2f-163d3420a6d7"
      },
      "source": [
        "np_a.shape"
      ],
      "execution_count": 83,
      "outputs": [
        {
          "output_type": "execute_result",
          "data": {
            "text/plain": [
              "(2, 3)"
            ]
          },
          "metadata": {},
          "execution_count": 83
        }
      ]
    },
    {
      "cell_type": "code",
      "metadata": {
        "colab": {
          "base_uri": "https://localhost:8080/"
        },
        "id": "r7aIdq2DahSm",
        "outputId": "94391ee8-99e8-4a97-e5bc-84fa6da1f483"
      },
      "source": [
        "np_c.shape"
      ],
      "execution_count": 84,
      "outputs": [
        {
          "output_type": "execute_result",
          "data": {
            "text/plain": [
              "(2, 3)"
            ]
          },
          "metadata": {},
          "execution_count": 84
        }
      ]
    },
    {
      "cell_type": "code",
      "metadata": {
        "colab": {
          "base_uri": "https://localhost:8080/"
        },
        "id": "otCHL9jbaiPl",
        "outputId": "b0907c4a-a4b5-4313-fd36-74395d77b799"
      },
      "source": [
        "np_c.T.shape"
      ],
      "execution_count": 85,
      "outputs": [
        {
          "output_type": "execute_result",
          "data": {
            "text/plain": [
              "(3, 2)"
            ]
          },
          "metadata": {},
          "execution_count": 85
        }
      ]
    },
    {
      "cell_type": "code",
      "metadata": {
        "colab": {
          "base_uri": "https://localhost:8080/"
        },
        "id": "HMKam0CMalak",
        "outputId": "45afbaf4-37f5-4606-d274-cba37d1a55af"
      },
      "source": [
        "np.dot(np_a,np_c.T)  #multipling matrix to matrix   (a,b) x (b,c) = (a,c)"
      ],
      "execution_count": 86,
      "outputs": [
        {
          "output_type": "execute_result",
          "data": {
            "text/plain": [
              "array([[28, 10],\n",
              "       [73, 28]])"
            ]
          },
          "metadata": {},
          "execution_count": 86
        }
      ]
    },
    {
      "cell_type": "markdown",
      "metadata": {
        "id": "Tw0NLn5UaqdE"
      },
      "source": [
        "##Indexing & Slicing"
      ]
    },
    {
      "cell_type": "code",
      "metadata": {
        "colab": {
          "base_uri": "https://localhost:8080/"
        },
        "id": "_E59jxRuarVX",
        "outputId": "5995b446-c40c-4c41-da08-0c078e791f39"
      },
      "source": [
        "np_a"
      ],
      "execution_count": 87,
      "outputs": [
        {
          "output_type": "execute_result",
          "data": {
            "text/plain": [
              "array([[1, 2, 3],\n",
              "       [4, 5, 6]])"
            ]
          },
          "metadata": {},
          "execution_count": 87
        }
      ]
    },
    {
      "cell_type": "code",
      "metadata": {
        "colab": {
          "base_uri": "https://localhost:8080/"
        },
        "id": "Sm24vNNuauIH",
        "outputId": "b51d0a82-63c3-415d-eb4d-d05270b7c534"
      },
      "source": [
        "np_a[1,1]"
      ],
      "execution_count": 88,
      "outputs": [
        {
          "output_type": "execute_result",
          "data": {
            "text/plain": [
              "5"
            ]
          },
          "metadata": {},
          "execution_count": 88
        }
      ]
    },
    {
      "cell_type": "code",
      "metadata": {
        "colab": {
          "base_uri": "https://localhost:8080/"
        },
        "id": "oK-GEri7awkG",
        "outputId": "6ec86724-d3fc-498d-b2cb-069901b7aef0"
      },
      "source": [
        "np_a[:2,:2]"
      ],
      "execution_count": 89,
      "outputs": [
        {
          "output_type": "execute_result",
          "data": {
            "text/plain": [
              "array([[1, 2],\n",
              "       [4, 5]])"
            ]
          },
          "metadata": {},
          "execution_count": 89
        }
      ]
    },
    {
      "cell_type": "code",
      "metadata": {
        "colab": {
          "base_uri": "https://localhost:8080/"
        },
        "id": "f5zTrrYzay6k",
        "outputId": "7ef04d14-eb21-46f6-bc77-8741609f358d"
      },
      "source": [
        "np_a[0,:]"
      ],
      "execution_count": 90,
      "outputs": [
        {
          "output_type": "execute_result",
          "data": {
            "text/plain": [
              "array([1, 2, 3])"
            ]
          },
          "metadata": {},
          "execution_count": 90
        }
      ]
    },
    {
      "cell_type": "markdown",
      "metadata": {
        "id": "iynBPgjJa1-3"
      },
      "source": [
        "##Useful functions"
      ]
    },
    {
      "cell_type": "code",
      "metadata": {
        "colab": {
          "base_uri": "https://localhost:8080/"
        },
        "id": "j3o3SzRPa6Q6",
        "outputId": "f3aec2d4-fdc4-4d40-818d-7c76bccf3398"
      },
      "source": [
        "np_a"
      ],
      "execution_count": 91,
      "outputs": [
        {
          "output_type": "execute_result",
          "data": {
            "text/plain": [
              "array([[1, 2, 3],\n",
              "       [4, 5, 6]])"
            ]
          },
          "metadata": {},
          "execution_count": 91
        }
      ]
    },
    {
      "cell_type": "code",
      "metadata": {
        "colab": {
          "base_uri": "https://localhost:8080/"
        },
        "id": "RQ3RGXdza6dd",
        "outputId": "5d993eeb-0a2f-4d85-b5dd-44ab8446d6c9"
      },
      "source": [
        "np.sum(np_a)"
      ],
      "execution_count": 92,
      "outputs": [
        {
          "output_type": "execute_result",
          "data": {
            "text/plain": [
              "21"
            ]
          },
          "metadata": {},
          "execution_count": 92
        }
      ]
    },
    {
      "cell_type": "code",
      "metadata": {
        "colab": {
          "base_uri": "https://localhost:8080/"
        },
        "id": "73zmHcb2bAMS",
        "outputId": "641c1746-21b4-4cb0-8c53-787c9cd125d1"
      },
      "source": [
        "np.sum(np_a,axis=0)  # axis 0 ก็คือรวมเลขในแต่ละแถว"
      ],
      "execution_count": 93,
      "outputs": [
        {
          "output_type": "execute_result",
          "data": {
            "text/plain": [
              "array([5, 7, 9])"
            ]
          },
          "metadata": {},
          "execution_count": 93
        }
      ]
    },
    {
      "cell_type": "code",
      "metadata": {
        "colab": {
          "base_uri": "https://localhost:8080/"
        },
        "id": "EATqssi7bCVc",
        "outputId": "e4036834-b151-4980-a471-6498c25f8e7e"
      },
      "source": [
        "np.sum(np_a,axis=1)  # axis 1 ก็คือรวมเลขในแต่ละหลัก"
      ],
      "execution_count": 94,
      "outputs": [
        {
          "output_type": "execute_result",
          "data": {
            "text/plain": [
              "array([ 6, 15])"
            ]
          },
          "metadata": {},
          "execution_count": 94
        }
      ]
    },
    {
      "cell_type": "code",
      "metadata": {
        "colab": {
          "base_uri": "https://localhost:8080/"
        },
        "id": "dasbFp24bF3U",
        "outputId": "fcfb7cae-9e79-4146-d539-37291ea6949d"
      },
      "source": [
        "np.mean(np_a)"
      ],
      "execution_count": 95,
      "outputs": [
        {
          "output_type": "execute_result",
          "data": {
            "text/plain": [
              "3.5"
            ]
          },
          "metadata": {},
          "execution_count": 95
        }
      ]
    },
    {
      "cell_type": "code",
      "metadata": {
        "colab": {
          "base_uri": "https://localhost:8080/"
        },
        "id": "djxODbS3bIH8",
        "outputId": "aae5bca0-66b3-49e9-d38a-398fd66434c8"
      },
      "source": [
        "np.mean(np_a,axis=0)  #หา mean ของ column"
      ],
      "execution_count": 96,
      "outputs": [
        {
          "output_type": "execute_result",
          "data": {
            "text/plain": [
              "array([2.5, 3.5, 4.5])"
            ]
          },
          "metadata": {},
          "execution_count": 96
        }
      ]
    },
    {
      "cell_type": "markdown",
      "metadata": {
        "id": "RAyZo0b0bKwX"
      },
      "source": [
        "##วนลูปเอง\n",
        "##summation\n"
      ]
    },
    {
      "cell_type": "code",
      "metadata": {
        "colab": {
          "base_uri": "https://localhost:8080/"
        },
        "id": "TzImBtqFbQfB",
        "outputId": "1b205662-33b2-4d4e-c47f-5e6ade878802"
      },
      "source": [
        "np_a.shape"
      ],
      "execution_count": 97,
      "outputs": [
        {
          "output_type": "execute_result",
          "data": {
            "text/plain": [
              "(2, 3)"
            ]
          },
          "metadata": {},
          "execution_count": 97
        }
      ]
    },
    {
      "cell_type": "code",
      "metadata": {
        "colab": {
          "base_uri": "https://localhost:8080/"
        },
        "id": "ehAl7c_2bU_6",
        "outputId": "0aa6a76d-d1bc-4434-cc42-6a70d9ff236a"
      },
      "source": [
        "sum_all = 0\n",
        "\n",
        "for row in range(np_a.shape[0]):\n",
        "    for col in range(np_a.shape[1]):\n",
        "        sum_all = sum_all + np_a[row,col]\n",
        "        print(f'we are at row={row},col={col} np_a[{row},{col}]={np_a[row,col]}  sum_all={sum_all}')\n",
        "print(sum_all)"
      ],
      "execution_count": 98,
      "outputs": [
        {
          "output_type": "stream",
          "name": "stdout",
          "text": [
            "we are at row=0,col=0 np_a[0,0]=1  sum_all=1\n",
            "we are at row=0,col=1 np_a[0,1]=2  sum_all=3\n",
            "we are at row=0,col=2 np_a[0,2]=3  sum_all=6\n",
            "we are at row=1,col=0 np_a[1,0]=4  sum_all=10\n",
            "we are at row=1,col=1 np_a[1,1]=5  sum_all=15\n",
            "we are at row=1,col=2 np_a[1,2]=6  sum_all=21\n",
            "21\n"
          ]
        }
      ]
    },
    {
      "cell_type": "code",
      "metadata": {
        "colab": {
          "base_uri": "https://localhost:8080/"
        },
        "id": "8G-D1w5SbV2O",
        "outputId": "ad726616-1bcc-4e62-dc3a-847bac9f5501"
      },
      "source": [
        "sum_all = np.zeros(np_a.shape[1])\n",
        "\n",
        "for row in range(np_a.shape[0]):\n",
        "    for col in range(np_a.shape[1]):\n",
        "        sum_all[col] = sum_all[col] + np_a[row,col]\n",
        "print(sum_all)"
      ],
      "execution_count": 99,
      "outputs": [
        {
          "output_type": "stream",
          "name": "stdout",
          "text": [
            "[5. 7. 9.]\n"
          ]
        }
      ]
    },
    {
      "cell_type": "markdown",
      "metadata": {
        "id": "vbS6kCVwbYyF"
      },
      "source": [
        ""
      ]
    },
    {
      "cell_type": "markdown",
      "metadata": {
        "id": "aRtf772zTEVi"
      },
      "source": [
        "##Quiz กลุ่ม\n",
        "\n",
        "วนลูปหาค่า\n",
        "\n",
        "1. np.sum(np_a,axis=1)\n",
        "\n",
        "2. np.mean(np_a)\n",
        "\n",
        "3. np.mean(np_a,axis=0)\n",
        "\n",
        "4. np.mean(np_a,axis=1)\n",
        "\n",
        "5. np.max(np_a)\n",
        "\n",
        "6. np.max(np_a,axis=0)\n",
        "\n",
        "7. np.max(np_a,axis=1)\n",
        "\n",
        "8. np.min(np_a)\n",
        "\n",
        "9. np.min(np_a,axis=0)\n",
        "\n",
        "10. np.min(np_a,axis=1)\n"
      ]
    },
    {
      "cell_type": "code",
      "metadata": {
        "colab": {
          "base_uri": "https://localhost:8080/"
        },
        "id": "T7W9w6tcbk1j",
        "outputId": "e226cb01-eedd-45b5-c53f-982f895bd448"
      },
      "source": [
        "sum_all = np.zeros(np_a.shape[0])\n",
        "\n",
        "for row in range(np_a.shape[0]):\n",
        "    for col in range(np_a.shape[1]):\n",
        "        sum_all[row] = sum_all[row] + np_a[row,col]     \n",
        "print(sum_all)"
      ],
      "execution_count": 100,
      "outputs": [
        {
          "output_type": "stream",
          "name": "stdout",
          "text": [
            "[ 6. 15.]\n"
          ]
        }
      ]
    },
    {
      "cell_type": "code",
      "metadata": {
        "id": "6I_k3c78TDz3",
        "colab": {
          "base_uri": "https://localhost:8080/"
        },
        "outputId": "66adcd07-93fd-4c41-d45c-f104f1233541"
      },
      "source": [
        "mean_all = 0\n",
        "for row in range(np_a.shape[0]):\n",
        "    for col in range(np_a.shape[1]):\n",
        "        mean_all = mean_all + np_a[row,col]\n",
        "mean_all = mean_all/(np_a.shape[0]*np_a.shape[1])\n",
        "print(mean_all)"
      ],
      "execution_count": 101,
      "outputs": [
        {
          "output_type": "stream",
          "name": "stdout",
          "text": [
            "3.5\n"
          ]
        }
      ]
    },
    {
      "cell_type": "code",
      "metadata": {
        "id": "D0Jho_DETjiq",
        "colab": {
          "base_uri": "https://localhost:8080/"
        },
        "outputId": "07b92032-2539-4386-a680-59e9db479a11"
      },
      "source": [
        "mean_all = np.zeros(np_a.shape[1])\n",
        "\n",
        "for row in range(np_a.shape[0]):\n",
        "    for col in range(np_a.shape[1]):\n",
        "        mean_all[col] = mean_all[col] + np_a[row,col]/np_a.shape[0]\n",
        "print(mean_all)"
      ],
      "execution_count": 102,
      "outputs": [
        {
          "output_type": "stream",
          "name": "stdout",
          "text": [
            "[2.5 3.5 4.5]\n"
          ]
        }
      ]
    },
    {
      "cell_type": "code",
      "metadata": {
        "id": "vn3PVSICTjtH",
        "colab": {
          "base_uri": "https://localhost:8080/"
        },
        "outputId": "938622a6-c9a4-4d77-cc25-b650eecbf0bc"
      },
      "source": [
        "sum_all = np.zeros(np_a.shape[0])\n",
        "\n",
        "for row in range(np_a.shape[0]):\n",
        "    for col in range(np_a.shape[1]):\n",
        "        sum_all[row] = sum_all[row] + np_a[row,col]\n",
        "sum_all = sum_all/np_a.shape[1]\n",
        "print(sum_all)"
      ],
      "execution_count": 103,
      "outputs": [
        {
          "output_type": "stream",
          "name": "stdout",
          "text": [
            "[2. 5.]\n"
          ]
        }
      ]
    },
    {
      "cell_type": "code",
      "metadata": {
        "id": "uiPxFj9Fbe8H",
        "colab": {
          "base_uri": "https://localhost:8080/"
        },
        "outputId": "d8154fc3-9628-4c4a-8aa3-0450f87fceb2"
      },
      "source": [
        "\n",
        "max_a = -100000000\n",
        "for row in range(np_a.shape[0]):\n",
        "    for col in range(np_a.shape[1]):\n",
        "        if np_a[row,col] > max_a :\n",
        "            max_a = np_a[row,col]\n",
        "print(max_a)"
      ],
      "execution_count": 104,
      "outputs": [
        {
          "output_type": "stream",
          "name": "stdout",
          "text": [
            "6\n"
          ]
        }
      ]
    },
    {
      "cell_type": "code",
      "metadata": {
        "id": "xEHdemHGTuBh",
        "colab": {
          "base_uri": "https://localhost:8080/"
        },
        "outputId": "b26eac87-1d6f-4c7d-eb12-9288309f13d7"
      },
      "source": [
        "max_all = -100000 * np.ones(np_a.shape[1])\n",
        "for col in range(np_a.shape[1]):\n",
        "    for row in range(np_a.shape[0]):\n",
        "        if np_a[row,col] > max_all[col]: \n",
        "            max_all[col] = np_a[row,col]\n",
        "print(max_all)"
      ],
      "execution_count": 105,
      "outputs": [
        {
          "output_type": "stream",
          "name": "stdout",
          "text": [
            "[4. 5. 6.]\n"
          ]
        }
      ]
    },
    {
      "cell_type": "code",
      "metadata": {
        "id": "SESDt1B0Tw_v",
        "colab": {
          "base_uri": "https://localhost:8080/"
        },
        "outputId": "a604427a-178d-4f03-abb5-0bcf4a9c5d5f"
      },
      "source": [
        "max_all = np.zeros(np_a.shape[0])\n",
        "for row in range(np_a.shape[0]):\n",
        "    max_all[row] = max(np_a[row,:])\n",
        "print(max_all)"
      ],
      "execution_count": 106,
      "outputs": [
        {
          "output_type": "stream",
          "name": "stdout",
          "text": [
            "[3. 6.]\n"
          ]
        }
      ]
    },
    {
      "cell_type": "code",
      "metadata": {
        "id": "UxLP5dczT3c0",
        "colab": {
          "base_uri": "https://localhost:8080/"
        },
        "outputId": "a831c073-39e1-47dd-e4c2-676b1855e64a"
      },
      "source": [
        "minV = 100000\n",
        "for row in range(np_a.shape[0]):\n",
        "    for col in range(np_a.shape[1]):\n",
        "        if np_a[row,col] < minV:\n",
        "            minV = np_a[row,col]\n",
        "print(minV)"
      ],
      "execution_count": 107,
      "outputs": [
        {
          "output_type": "stream",
          "name": "stdout",
          "text": [
            "1\n"
          ]
        }
      ]
    },
    {
      "cell_type": "code",
      "metadata": {
        "id": "v05M2TVDT576",
        "colab": {
          "base_uri": "https://localhost:8080/"
        },
        "outputId": "64820820-92da-48a3-f393-3778598f2b96"
      },
      "source": [
        "min_all = np.zeros(np_a.shape[1])\n",
        "\n",
        "for col in range(np_a.shape[1]):\n",
        "    min_all[col] = min(np_a[:,col])\n",
        "print(min_all)"
      ],
      "execution_count": 108,
      "outputs": [
        {
          "output_type": "stream",
          "name": "stdout",
          "text": [
            "[1. 2. 3.]\n"
          ]
        }
      ]
    },
    {
      "cell_type": "code",
      "metadata": {
        "id": "sTdU-aE4T898",
        "colab": {
          "base_uri": "https://localhost:8080/"
        },
        "outputId": "832b8679-efbb-4413-a606-9c90e0e5cb5e"
      },
      "source": [
        "min_row = np.zeros(np_a.shape[0])\n",
        "for row in range(np_a.shape[0]):\n",
        "   min_row[row] = min(np_a[row,:])\n",
        "print(min_row)"
      ],
      "execution_count": 109,
      "outputs": [
        {
          "output_type": "stream",
          "name": "stdout",
          "text": [
            "[1. 4.]\n"
          ]
        }
      ]
    },
    {
      "cell_type": "code",
      "metadata": {
        "id": "9ZnXYeb9l6kD",
        "colab": {
          "base_uri": "https://localhost:8080/"
        },
        "outputId": "4d9ee275-5b3e-4586-f53e-a3a56f33fed3"
      },
      "source": [
        "data1 = np.array([[1,2],[3,5],[2,0],[4,5]])\n",
        "data1"
      ],
      "execution_count": 110,
      "outputs": [
        {
          "output_type": "execute_result",
          "data": {
            "text/plain": [
              "array([[1, 2],\n",
              "       [3, 5],\n",
              "       [2, 0],\n",
              "       [4, 5]])"
            ]
          },
          "metadata": {},
          "execution_count": 110
        }
      ]
    },
    {
      "cell_type": "code",
      "metadata": {
        "id": "veZS4z_al7oY",
        "colab": {
          "base_uri": "https://localhost:8080/",
          "height": 283
        },
        "outputId": "7bc2ceaf-4a87-4973-de7d-b91208cf0a5f"
      },
      "source": [
        "from matplotlib import pyplot as plt\n",
        "plt.scatter(data1[:,0],data1[:,1])"
      ],
      "execution_count": 111,
      "outputs": [
        {
          "output_type": "execute_result",
          "data": {
            "text/plain": [
              "<matplotlib.collections.PathCollection at 0x7f3037603b10>"
            ]
          },
          "metadata": {},
          "execution_count": 111
        },
        {
          "output_type": "display_data",
          "data": {
            "image/png": "[encoded data removed]",
            "text/plain": [
              "<Figure size 432x288 with 1 Axes>"
            ]
          },
          "metadata": {
            "needs_background": "light"
          }
        }
      ]
    },
    {
      "cell_type": "markdown",
      "metadata": {
        "id": "-kvEB88jlmg0"
      },
      "source": [
        "##Euclidean Distance (L2-norm)"
      ]
    },
    {
      "cell_type": "code",
      "metadata": {
        "id": "Js6IMWVllr45",
        "colab": {
          "base_uri": "https://localhost:8080/"
        },
        "outputId": "0c5c5225-96c7-446d-cff5-72d5db907ee4"
      },
      "source": [
        "dist_p1_p2 = np.sqrt(np.power(data1[0,0]-data1[1,0],2) + np.power(data1[0,1]-data1[1,1],2))\n",
        "dist_p1_p2"
      ],
      "execution_count": 112,
      "outputs": [
        {
          "output_type": "execute_result",
          "data": {
            "text/plain": [
              "3.605551275463989"
            ]
          },
          "metadata": {},
          "execution_count": 112
        }
      ]
    },
    {
      "cell_type": "code",
      "metadata": {
        "id": "O35b5C8glvYk",
        "colab": {
          "base_uri": "https://localhost:8080/"
        },
        "outputId": "70a84012-94e5-4154-8fcc-a5cffd906176"
      },
      "source": [
        "dist_p1_p2 = np.power(np.power(data1[0,0]-data1[1,0],2) + np.power(data1[0,1]-data1[1,1],2),0.5)\n",
        "dist_p1_p2"
      ],
      "execution_count": 113,
      "outputs": [
        {
          "output_type": "execute_result",
          "data": {
            "text/plain": [
              "3.605551275463989"
            ]
          },
          "metadata": {},
          "execution_count": 113
        }
      ]
    },
    {
      "cell_type": "code",
      "metadata": {
        "id": "H9Y6e36Xl01m",
        "colab": {
          "base_uri": "https://localhost:8080/"
        },
        "outputId": "487f46bd-3ef5-437e-d39f-34b567e0eb2f"
      },
      "source": [
        "dist_p2_p4 = np.sqrt(np.power(data1[1,0]-data1[3,0],2) + np.power(data1[1,1]-data1[3,1],2))\n",
        "dist_p2_p4"
      ],
      "execution_count": 114,
      "outputs": [
        {
          "output_type": "execute_result",
          "data": {
            "text/plain": [
              "1.0"
            ]
          },
          "metadata": {},
          "execution_count": 114
        }
      ]
    },
    {
      "cell_type": "markdown",
      "metadata": {
        "id": "mtegoU4fW9Bj"
      },
      "source": [
        "##Distance function\n",
        "\n",
        "p1 = [x,y]\n",
        "\n",
        "dim = 2"
      ]
    },
    {
      "cell_type": "code",
      "metadata": {
        "id": "iKOXfwVwXADK"
      },
      "source": [
        "def dist_l2_2(p1,p2):\n",
        "    return np.sqrt(np.power(p1[0]-p2[0],2) + np.power(p1[1]-p1[1],2))"
      ],
      "execution_count": 115,
      "outputs": []
    },
    {
      "cell_type": "code",
      "metadata": {
        "id": "xemXbMgXlheI",
        "colab": {
          "base_uri": "https://localhost:8080/"
        },
        "outputId": "0089042c-4549-4afd-ed1a-3199dce66817"
      },
      "source": [
        "dist_l2_2(data1[0,:],data1[1,:]) # จุดที่ 1,2"
      ],
      "execution_count": 116,
      "outputs": [
        {
          "output_type": "execute_result",
          "data": {
            "text/plain": [
              "2.0"
            ]
          },
          "metadata": {},
          "execution_count": 116
        }
      ]
    },
    {
      "cell_type": "code",
      "metadata": {
        "colab": {
          "base_uri": "https://localhost:8080/"
        },
        "id": "SRZGxwYvXIds",
        "outputId": "a85293f0-ab20-4a84-937b-13d823d1cc6c"
      },
      "source": [
        "dist_l2_2(data1[1,:],data1[3,:]) # จุดที่ 2,4"
      ],
      "execution_count": 117,
      "outputs": [
        {
          "output_type": "execute_result",
          "data": {
            "text/plain": [
              "1.0"
            ]
          },
          "metadata": {},
          "execution_count": 117
        }
      ]
    },
    {
      "cell_type": "markdown",
      "metadata": {
        "id": "JEdy_jKsXT0B"
      },
      "source": [
        "*dim = n*"
      ]
    },
    {
      "cell_type": "code",
      "metadata": {
        "id": "6eYNuAVSXVzP"
      },
      "source": [
        "def dist_l2_n(p1,p2):\n",
        "    sum = 0\n",
        "    for i in range(len(p1)):\n",
        "        sum = sum + np.power(p1[i]-p2[i],2)\n",
        "    return np.sqrt(sum)"
      ],
      "execution_count": 118,
      "outputs": []
    },
    {
      "cell_type": "code",
      "metadata": {
        "colab": {
          "base_uri": "https://localhost:8080/"
        },
        "id": "zkfZewnUXYVn",
        "outputId": "eba927b8-e117-4166-b2a0-e626c11ad4bd"
      },
      "source": [
        "dist_l2_n(data1[0,:],data1[1,:])"
      ],
      "execution_count": 119,
      "outputs": [
        {
          "output_type": "execute_result",
          "data": {
            "text/plain": [
              "3.605551275463989"
            ]
          },
          "metadata": {},
          "execution_count": 119
        }
      ]
    },
    {
      "cell_type": "markdown",
      "metadata": {
        "id": "19LDJxdkXesi"
      },
      "source": [
        "##Manhattan Distance (L1-norm)\n",
        "\n",
        "|x_1-x_2|+|y_1-y_2|\n",
        "\n",
        "##Quiz 6\n",
        "เขียน function คำนวณ manhattan distance ของ ข้อมูล 2 dimensions"
      ]
    },
    {
      "cell_type": "code",
      "metadata": {
        "id": "yhljklzeXkwE"
      },
      "source": [
        "def dist_l1_2(p1,p2):\n",
        "    return np.abs((p1[0] - p2[0]) + (p1[1] - p2[1]))"
      ],
      "execution_count": 120,
      "outputs": []
    },
    {
      "cell_type": "code",
      "metadata": {
        "colab": {
          "base_uri": "https://localhost:8080/"
        },
        "id": "jvdeGNJcXodz",
        "outputId": "aac9c548-de32-4479-99ff-a6ae85f0eccb"
      },
      "source": [
        "dist_l1_2(data1[0,:],data1[1,:])"
      ],
      "execution_count": 121,
      "outputs": [
        {
          "output_type": "execute_result",
          "data": {
            "text/plain": [
              "5"
            ]
          },
          "metadata": {},
          "execution_count": 121
        }
      ]
    },
    {
      "cell_type": "markdown",
      "metadata": {
        "id": "a5ZYOJqiX3E_"
      },
      "source": [
        "##Hw11\n",
        "\n",
        "Function คำนวณ manhattan distance ของ ข้อมูล N dimensions\n",
        "\n",
        "Function คำนวณ L-$\\infty$ ของ ข้อมูล N dimensions\n",
        "\n",
        "Function คำนวณ Distance Matrix ด้วย Euclidean Distance (bonus)"
      ]
    },
    {
      "cell_type": "markdown",
      "metadata": {
        "id": "EGZZYXQUYEEa"
      },
      "source": [
        "##ข้อ 1"
      ]
    },
    {
      "cell_type": "code",
      "metadata": {
        "id": "knKcZWIQX5d9"
      },
      "source": [
        "def dist_l1_N(p1,p2):\n",
        "    sum = 0\n",
        "    for i in range(len(p1)):\n",
        "        sum =  sum + np.abs(p1[i] - p2[i]) \n",
        "    return np.abs(sum)"
      ],
      "execution_count": 122,
      "outputs": []
    },
    {
      "cell_type": "code",
      "metadata": {
        "colab": {
          "base_uri": "https://localhost:8080/"
        },
        "id": "cRCi-q3LYDEb",
        "outputId": "239f2c5b-7df5-42fc-e04f-45af18364ef9"
      },
      "source": [
        "dist_l1_N(data1[0,:],data1[1,:])"
      ],
      "execution_count": 123,
      "outputs": [
        {
          "output_type": "execute_result",
          "data": {
            "text/plain": [
              "5"
            ]
          },
          "metadata": {},
          "execution_count": 123
        }
      ]
    },
    {
      "cell_type": "markdown",
      "metadata": {
        "id": "Sf51tXQoYKUP"
      },
      "source": [
        "##ข้อ 2"
      ]
    },
    {
      "cell_type": "code",
      "metadata": {
        "id": "B4hoMBp3ct5P"
      },
      "source": [
        "def dist_linf_N(p1,p2):\n",
        "    return np.maximum(np.abs(p1[0] - p2[0]) , np.abs(p1[1] - p2[1]))"
      ],
      "execution_count": 132,
      "outputs": []
    },
    {
      "cell_type": "code",
      "metadata": {
        "id": "XANz_xqAc0i-"
      },
      "source": [
        "def dist_linf_n(p1,p2): # max กำหนดค่าให้เป็น ค่าน้อยๆ min กำหนดให้ค่าเป็น ค่ามากๆ\n",
        "    maxv = -100000\n",
        "    for i in range(len(p1)):\n",
        "        this_dist = np.abs(p1[i] - p2[i])\n",
        "        if this_dist > maxv:\n",
        "            maxv = this_dist\n",
        "    return maxv"
      ],
      "execution_count": 133,
      "outputs": []
    },
    {
      "cell_type": "code",
      "metadata": {
        "colab": {
          "base_uri": "https://localhost:8080/"
        },
        "id": "H2y2-Dwpc5gB",
        "outputId": "aeecbf4c-6830-44b3-dd41-6052b36f0a38"
      },
      "source": [
        "dist_linf_n(data1[0,:],data1[2,:])"
      ],
      "execution_count": 134,
      "outputs": [
        {
          "output_type": "execute_result",
          "data": {
            "text/plain": [
              "2"
            ]
          },
          "metadata": {},
          "execution_count": 134
        }
      ]
    },
    {
      "cell_type": "code",
      "metadata": {
        "colab": {
          "base_uri": "https://localhost:8080/"
        },
        "id": "sS95SJ5Bc8Jp",
        "outputId": "89d08158-a6a6-4670-8427-03635dee3d4a"
      },
      "source": [
        "dist_linf_n([-20,2,7],[0,5,9])"
      ],
      "execution_count": 135,
      "outputs": [
        {
          "output_type": "execute_result",
          "data": {
            "text/plain": [
              "20"
            ]
          },
          "metadata": {},
          "execution_count": 135
        }
      ]
    },
    {
      "cell_type": "markdown",
      "metadata": {
        "id": "gdesjTRmY2aJ"
      },
      "source": [
        "##ข้อ 3"
      ]
    },
    {
      "cell_type": "code",
      "metadata": {
        "id": "PhfDUb9ic_f6"
      },
      "source": [
        "def dist_mat_eud(data):\n",
        "    d_mat = np.zeros((data.shape[0],data.shape[0]))\n",
        "    for i in range(data.shape[0]):\n",
        "        for j in range(data.shape[0]):\n",
        "            d_mat[i,j] = dist_l2_n(data[i,:],data[j,:])\n",
        "    return d_mat"
      ],
      "execution_count": 136,
      "outputs": []
    },
    {
      "cell_type": "code",
      "metadata": {
        "colab": {
          "base_uri": "https://localhost:8080/"
        },
        "id": "mqLInVezdEu_",
        "outputId": "9b62e3c5-57ea-43eb-fb6d-2c66214e3d02"
      },
      "source": [
        "dist_mat_eud(data1)"
      ],
      "execution_count": 137,
      "outputs": [
        {
          "output_type": "execute_result",
          "data": {
            "text/plain": [
              "array([[0.        , 3.60555128, 2.23606798, 4.24264069],\n",
              "       [3.60555128, 0.        , 5.09901951, 1.        ],\n",
              "       [2.23606798, 5.09901951, 0.        , 5.38516481],\n",
              "       [4.24264069, 1.        , 5.38516481, 0.        ]])"
            ]
          },
          "metadata": {},
          "execution_count": 137
        }
      ]
    },
    {
      "cell_type": "markdown",
      "metadata": {
        "id": "OAiBYYoNcNji"
      },
      "source": [
        "##Distance of Binary Value\n",
        "\n",
        "Create table\n"
      ]
    },
    {
      "cell_type": "markdown",
      "metadata": {
        "id": "o5Rk93PudXY9"
      },
      "source": [
        "![C03A635D-A54C-4E3F-AC6F-B1959A1A1E83.jpeg](data:image/jpeg;base64,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)"
      ]
    },
    {
      "cell_type": "code",
      "metadata": {
        "id": "oMva7jnjcR5_"
      },
      "source": [
        "import pandas as pd"
      ],
      "execution_count": 128,
      "outputs": []
    },
    {
      "cell_type": "code",
      "metadata": {
        "colab": {
          "base_uri": "https://localhost:8080/",
          "height": 142
        },
        "id": "4MFKRPnhcLmg",
        "outputId": "9e3e8c34-a60a-4a04-c634-bb03d93d40f0"
      },
      "source": [
        "records = [['Jack',1,1,0,1,0,0,0],\n",
        "           ['Mary',0,1,0,1,0,1,0],\n",
        "           ['Jim',1,1,1,0,0,0,0]]\n",
        "labels = ['Name','Gender','Fever','Cough','Test-1','Test-2','Test-3','Test-4']\n",
        "\n",
        "binary_table = pd.DataFrame.from_records(records,columns=labels)\n",
        "binary_table"
      ],
      "execution_count": 129,
      "outputs": [
        {
          "output_type": "execute_result",
          "data": {
            "text/html": [
              "<div>\n",
              "<style scoped>\n",
              "    .dataframe tbody tr th:only-of-type {\n",
              "        vertical-align: middle;\n",
              "    }\n",
              "\n",
              "    .dataframe tbody tr th {\n",
              "        vertical-align: top;\n",
              "    }\n",
              "\n",
              "    .dataframe thead th {\n",
              "        text-align: right;\n",
              "    }\n",
              "</style>\n",
              "<table border=\"1\" class=\"dataframe\">\n",
              "  <thead>\n",
              "    <tr style=\"text-align: right;\">\n",
              "      <th></th>\n",
              "      <th>Name</th>\n",
              "      <th>Gender</th>\n",
              "      <th>Fever</th>\n",
              "      <th>Cough</th>\n",
              "      <th>Test-1</th>\n",
              "      <th>Test-2</th>\n",
              "      <th>Test-3</th>\n",
              "      <th>Test-4</th>\n",
              "    </tr>\n",
              "  </thead>\n",
              "  <tbody>\n",
              "    <tr>\n",
              "      <th>0</th>\n",
              "      <td>Jack</td>\n",
              "      <td>1</td>\n",
              "      <td>1</td>\n",
              "      <td>0</td>\n",
              "      <td>1</td>\n",
              "      <td>0</td>\n",
              "      <td>0</td>\n",
              "      <td>0</td>\n",
              "    </tr>\n",
              "    <tr>\n",
              "      <th>1</th>\n",
              "      <td>Mary</td>\n",
              "      <td>0</td>\n",
              "      <td>1</td>\n",
              "      <td>0</td>\n",
              "      <td>1</td>\n",
              "      <td>0</td>\n",
              "      <td>1</td>\n",
              "      <td>0</td>\n",
              "    </tr>\n",
              "    <tr>\n",
              "      <th>2</th>\n",
              "      <td>Jim</td>\n",
              "      <td>1</td>\n",
              "      <td>1</td>\n",
              "      <td>1</td>\n",
              "      <td>0</td>\n",
              "      <td>0</td>\n",
              "      <td>0</td>\n",
              "      <td>0</td>\n",
              "    </tr>\n",
              "  </tbody>\n",
              "</table>\n",
              "</div>"
            ],
            "text/plain": [
              "   Name  Gender  Fever  Cough  Test-1  Test-2  Test-3  Test-4\n",
              "0  Jack       1      1      0       1       0       0       0\n",
              "1  Mary       0      1      0       1       0       1       0\n",
              "2   Jim       1      1      1       0       0       0       0"
            ]
          },
          "metadata": {},
          "execution_count": 129
        }
      ]
    },
    {
      "cell_type": "code",
      "metadata": {
        "id": "UMj1N4sVchQA"
      },
      "source": [
        "def dist_binary_symmetric(p1,p2):\n",
        "    q = 0.\n",
        "    r = 0.\n",
        "    s = 0.\n",
        "    t = 0.\n",
        "    for i in range(len(p1)):\n",
        "        \n",
        "        if (p1[i] == 1) and (p2[i] == 1):\n",
        "            q = q + 1\n",
        "        \n",
        "        if (p1[i] == 0) and (p2[i] == 1):\n",
        "            r = r + 1\n",
        "        \n",
        "        if (p1[i] == 1) and (p2[i] == 0):\n",
        "            s = s + 1\n",
        "\n",
        "        if (p1[i] == 0) and (p2[i] == 0):\n",
        "            t = t + 1\n",
        "    return (r+s)/(q+r+s+t)\n"
      ],
      "execution_count": 130,
      "outputs": []
    },
    {
      "cell_type": "code",
      "metadata": {
        "colab": {
          "base_uri": "https://localhost:8080/"
        },
        "id": "1ZsX0uUOclNx",
        "outputId": "1393fe0b-0c7e-45c4-c881-ab4b35477dc7"
      },
      "source": [
        "dist_binary_symmetric(binary_table.iloc[0,1:],binary_table.iloc[1,1:])"
      ],
      "execution_count": 131,
      "outputs": [
        {
          "output_type": "execute_result",
          "data": {
            "text/plain": [
              "0.2857142857142857"
            ]
          },
          "metadata": {},
          "execution_count": 131
        }
      ]
    },
    {
      "cell_type": "code",
      "metadata": {
        "id": "VM31Xr9bcl9A"
      },
      "source": [
        ""
      ],
      "execution_count": null,
      "outputs": []
    },
    {
      "cell_type": "code",
      "metadata": {
        "id": "2GOs-ScOcmNk"
      },
      "source": [
        ""
      ],
      "execution_count": null,
      "outputs": []
    }
  ]
}