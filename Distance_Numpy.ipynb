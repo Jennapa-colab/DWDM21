{
  "nbformat": 4,
  "nbformat_minor": 0,
  "metadata": {
    "colab": {
      "name": "Distance_Numpy.ipynb",
      "provenance": [],
      "authorship_tag": "ABX9TyM+d5LIN+Pi2Sy6KrXOfTTS",
      "include_colab_link": true
    },
    "kernelspec": {
      "name": "python3",
      "display_name": "Python 3"
    },
    "language_info": {
      "name": "python"
    }
  },
  "cells": [
    {
      "cell_type": "markdown",
      "metadata": {
        "id": "view-in-github",
        "colab_type": "text"
      },
      "source": [
        "<a href=\"https://colab.research.google.com/github/Jennapa-colab/DWDM21/blob/main/Distance_Numpy.ipynb\" target=\"_parent\"><img src=\"https://colab.research.google.com/assets/colab-badge.svg\" alt=\"Open In Colab\"/></a>"
      ]
    },
    {
      "cell_type": "code",
      "metadata": {
        "id": "HUv_ycgRO_m2"
      },
      "source": [
        "import numpy as np \n",
        "#การรับทำงานกับ ข้อมูลที่เป็นตัวเลข (อยู่ในรูปแบบ Matrix)"
      ],
      "execution_count": 3,
      "outputs": []
    },
    {
      "cell_type": "markdown",
      "metadata": {
        "id": "vI74BEqtPGLq"
      },
      "source": [
        "##Numpy Array\n"
      ]
    },
    {
      "cell_type": "markdown",
      "metadata": {
        "id": "8ynJ9grWXRy-"
      },
      "source": [
        ""
      ]
    },
    {
      "cell_type": "markdown",
      "metadata": {
        "id": "5cVzZd-NPbAO"
      },
      "source": [
        "##สร้าง numpy array"
      ]
    },
    {
      "cell_type": "code",
      "metadata": {
        "id": "g2180ld9PdGX"
      },
      "source": [
        "np_a = np.array([[1,2,3],[4,5,6]]) \n",
        "# สร้าง numpy array ที่มี 2 เเถว 3 หลัก สร้าง matrix จาก list"
      ],
      "execution_count": 4,
      "outputs": []
    },
    {
      "cell_type": "code",
      "metadata": {
        "colab": {
          "base_uri": "https://localhost:8080/"
        },
        "id": "xJlvtMwjPag6",
        "outputId": "ad372f18-801e-487f-eddf-f7c776e2ec18"
      },
      "source": [
        "np_a"
      ],
      "execution_count": 5,
      "outputs": [
        {
          "output_type": "execute_result",
          "data": {
            "text/plain": [
              "array([[1, 2, 3],\n",
              "       [4, 5, 6]])"
            ]
          },
          "metadata": {},
          "execution_count": 5
        }
      ]
    },
    {
      "cell_type": "code",
      "metadata": {
        "colab": {
          "base_uri": "https://localhost:8080/"
        },
        "id": "DFezv6nlPln3",
        "outputId": "f16163bc-bfeb-48aa-894a-e2e5672a8456"
      },
      "source": [
        "np_a.shape \n",
        "# เช็คขนาด (เเถว,หลัก)"
      ],
      "execution_count": 6,
      "outputs": [
        {
          "output_type": "execute_result",
          "data": {
            "text/plain": [
              "(2, 3)"
            ]
          },
          "metadata": {},
          "execution_count": 6
        }
      ]
    },
    {
      "cell_type": "code",
      "metadata": {
        "colab": {
          "base_uri": "https://localhost:8080/"
        },
        "id": "Uu_ZD14BP0AJ",
        "outputId": "1faf90c3-8051-4af4-8b95-ded774275c17"
      },
      "source": [
        "np_b = np.array([[1,4],[2,5],[3,6]])\n",
        "np_b"
      ],
      "execution_count": 7,
      "outputs": [
        {
          "output_type": "execute_result",
          "data": {
            "text/plain": [
              "array([[1, 4],\n",
              "       [2, 5],\n",
              "       [3, 6]])"
            ]
          },
          "metadata": {},
          "execution_count": 7
        }
      ]
    },
    {
      "cell_type": "markdown",
      "metadata": {
        "id": "Q3OHEk70PXqt"
      },
      "source": [
        "##matrix transpose"
      ]
    },
    {
      "cell_type": "code",
      "metadata": {
        "colab": {
          "base_uri": "https://localhost:8080/"
        },
        "id": "qv-lG3S1QaWR",
        "outputId": "9a31bcd0-27cf-47d2-b59e-00e2cff9142e"
      },
      "source": [
        "np_a.T"
      ],
      "execution_count": 8,
      "outputs": [
        {
          "output_type": "execute_result",
          "data": {
            "text/plain": [
              "array([[1, 4],\n",
              "       [2, 5],\n",
              "       [3, 6]])"
            ]
          },
          "metadata": {},
          "execution_count": 8
        }
      ]
    },
    {
      "cell_type": "markdown",
      "metadata": {
        "id": "CHNYurcGQedu"
      },
      "source": [
        "##สร้าง matrix เริ่มต้น (zeros,ones)"
      ]
    },
    {
      "cell_type": "code",
      "metadata": {
        "colab": {
          "base_uri": "https://localhost:8080/"
        },
        "id": "hqx7pP1wQkvy",
        "outputId": "cb4374ec-9a32-40d5-acd9-2d3ad1c2d03c"
      },
      "source": [
        "np_z = np.zeros((4,5))   # matrix เริ่มต้นคือ matrix ที่กำหนดค่าให้เป็น 0,1\n",
        "np_z"
      ],
      "execution_count": 9,
      "outputs": [
        {
          "output_type": "execute_result",
          "data": {
            "text/plain": [
              "array([[0., 0., 0., 0., 0.],\n",
              "       [0., 0., 0., 0., 0.],\n",
              "       [0., 0., 0., 0., 0.],\n",
              "       [0., 0., 0., 0., 0.]])"
            ]
          },
          "metadata": {},
          "execution_count": 9
        }
      ]
    },
    {
      "cell_type": "code",
      "metadata": {
        "colab": {
          "base_uri": "https://localhost:8080/"
        },
        "id": "xDdTEFxcQnf_",
        "outputId": "ada07fc5-cf09-4888-a09d-b9199308c23c"
      },
      "source": [
        "np_o = np.ones((5,6))\n",
        "np_o"
      ],
      "execution_count": 10,
      "outputs": [
        {
          "output_type": "execute_result",
          "data": {
            "text/plain": [
              "array([[1., 1., 1., 1., 1., 1.],\n",
              "       [1., 1., 1., 1., 1., 1.],\n",
              "       [1., 1., 1., 1., 1., 1.],\n",
              "       [1., 1., 1., 1., 1., 1.],\n",
              "       [1., 1., 1., 1., 1., 1.]])"
            ]
          },
          "metadata": {},
          "execution_count": 10
        }
      ]
    },
    {
      "cell_type": "code",
      "metadata": {
        "colab": {
          "base_uri": "https://localhost:8080/"
        },
        "id": "mTVgEeovQ0PW",
        "outputId": "2afb5243-faa7-4f6b-ffa4-977502700e9a"
      },
      "source": [
        "np_200 = 200 * np.ones((4,7))\n",
        "np_200 # ทำเป็นค่า 200 ทุกค่าใน matrix เอา 200 "
      ],
      "execution_count": 11,
      "outputs": [
        {
          "output_type": "execute_result",
          "data": {
            "text/plain": [
              "array([[200., 200., 200., 200., 200., 200., 200.],\n",
              "       [200., 200., 200., 200., 200., 200., 200.],\n",
              "       [200., 200., 200., 200., 200., 200., 200.],\n",
              "       [200., 200., 200., 200., 200., 200., 200.]])"
            ]
          },
          "metadata": {},
          "execution_count": 11
        }
      ]
    },
    {
      "cell_type": "markdown",
      "metadata": {
        "id": "ToJxUq-3RQTi"
      },
      "source": [
        "##สร้าง matrix random ค่าเเบบมั่ว"
      ]
    },
    {
      "cell_type": "code",
      "metadata": {
        "colab": {
          "base_uri": "https://localhost:8080/"
        },
        "id": "5rChUuwMRT2D",
        "outputId": "ac74b90c-c3c4-42a4-87f7-22a8a43c4db1"
      },
      "source": [
        "np.random.randn(5,5) \n",
        "#random เลขมาจาก normal distribution ที่มี mu=0 std=1"
      ],
      "execution_count": 12,
      "outputs": [
        {
          "output_type": "execute_result",
          "data": {
            "text/plain": [
              "array([[-0.06043983, -0.27318126,  0.34028776,  0.84227627, -0.80329168],\n",
              "       [ 1.03211869,  0.20252432, -0.1539324 , -1.16208141,  0.75022915],\n",
              "       [ 0.74863653, -0.33266448, -0.34503455,  2.23158307, -0.80694135],\n",
              "       [ 0.09473109,  1.51581343, -0.96056405, -1.15876968, -1.44501847],\n",
              "       [-1.36527352, -0.88084727, -0.55898965, -0.77606243, -1.3103748 ]])"
            ]
          },
          "metadata": {},
          "execution_count": 12
        }
      ]
    },
    {
      "cell_type": "code",
      "metadata": {
        "colab": {
          "base_uri": "https://localhost:8080/"
        },
        "id": "s6wY804xSOxM",
        "outputId": "63039f6e-2ad2-4a78-9ea7-4eb0c10744e9"
      },
      "source": [
        "2+(5*np.random.randn(3,3)) \n",
        "#normal distribution ที่มี mu=2 std=5"
      ],
      "execution_count": 13,
      "outputs": [
        {
          "output_type": "execute_result",
          "data": {
            "text/plain": [
              "array([[ 4.85758384,  0.06135022,  9.69549147],\n",
              "       [12.03213134,  1.6196139 ,  4.62116827],\n",
              "       [-2.46930252,  9.29314745,  7.7471631 ]])"
            ]
          },
          "metadata": {},
          "execution_count": 13
        }
      ]
    },
    {
      "cell_type": "code",
      "metadata": {
        "colab": {
          "base_uri": "https://localhost:8080/"
        },
        "id": "kYXlJjzoRRdI",
        "outputId": "f00f5fef-d2e2-45dd-c575-c3dc31a147b5"
      },
      "source": [
        "np.random.randint(5,11,(4,5)) \n",
        "#ค่าตั้งเเต่ระหว่าง 5 ถึง 10 (5,11,(ขนาด 4x5))"
      ],
      "execution_count": 14,
      "outputs": [
        {
          "output_type": "execute_result",
          "data": {
            "text/plain": [
              "array([[ 7, 10,  8,  7,  6],\n",
              "       [ 8,  6,  7,  5,  7],\n",
              "       [10, 10,  9,  7,  6],\n",
              "       [ 9,  6,  8,  9,  5]])"
            ]
          },
          "metadata": {},
          "execution_count": 14
        }
      ]
    },
    {
      "cell_type": "markdown",
      "metadata": {
        "id": "Yq55s4HJZoQW"
      },
      "source": [
        "##matrix properties"
      ]
    },
    {
      "cell_type": "code",
      "metadata": {
        "colab": {
          "base_uri": "https://localhost:8080/"
        },
        "id": "ZeSZRoZ2ZnJJ",
        "outputId": "d5eb73cf-e9e0-4c3b-8f40-65728e1a7193"
      },
      "source": [
        "np_a"
      ],
      "execution_count": 15,
      "outputs": [
        {
          "output_type": "execute_result",
          "data": {
            "text/plain": [
              "array([[1, 2, 3],\n",
              "       [4, 5, 6]])"
            ]
          },
          "metadata": {},
          "execution_count": 15
        }
      ]
    },
    {
      "cell_type": "code",
      "metadata": {
        "colab": {
          "base_uri": "https://localhost:8080/"
        },
        "id": "PlDx2DqBZr_B",
        "outputId": "6da5903d-fef3-4c25-c6bb-3bc8071cd779"
      },
      "source": [
        "np_a.T  #transpose"
      ],
      "execution_count": 16,
      "outputs": [
        {
          "output_type": "execute_result",
          "data": {
            "text/plain": [
              "array([[1, 4],\n",
              "       [2, 5],\n",
              "       [3, 6]])"
            ]
          },
          "metadata": {},
          "execution_count": 16
        }
      ]
    },
    {
      "cell_type": "code",
      "metadata": {
        "colab": {
          "base_uri": "https://localhost:8080/"
        },
        "id": "wQbx1OQLaLvp",
        "outputId": "b80d2bc2-65f8-4cc6-d173-107a58cac26b"
      },
      "source": [
        "1 + np_a  #adding scalar to matrix"
      ],
      "execution_count": 17,
      "outputs": [
        {
          "output_type": "execute_result",
          "data": {
            "text/plain": [
              "array([[2, 3, 4],\n",
              "       [5, 6, 7]])"
            ]
          },
          "metadata": {},
          "execution_count": 17
        }
      ]
    },
    {
      "cell_type": "code",
      "metadata": {
        "colab": {
          "base_uri": "https://localhost:8080/"
        },
        "id": "aOmkJlyeaRwp",
        "outputId": "a264a1b5-1205-4ba7-bb17-aa04146851e7"
      },
      "source": [
        "2 * np_a  #multipling scalar to matrix"
      ],
      "execution_count": 18,
      "outputs": [
        {
          "output_type": "execute_result",
          "data": {
            "text/plain": [
              "array([[ 2,  4,  6],\n",
              "       [ 8, 10, 12]])"
            ]
          },
          "metadata": {},
          "execution_count": 18
        }
      ]
    },
    {
      "cell_type": "code",
      "metadata": {
        "colab": {
          "base_uri": "https://localhost:8080/"
        },
        "id": "ov_Ogx0KaVM_",
        "outputId": "ed9811ff-e774-40be-9559-48ad1b97c3ac"
      },
      "source": [
        "np_c = np.array([[6,5,4],[3,2,1]])\n",
        "np_c"
      ],
      "execution_count": 19,
      "outputs": [
        {
          "output_type": "execute_result",
          "data": {
            "text/plain": [
              "array([[6, 5, 4],\n",
              "       [3, 2, 1]])"
            ]
          },
          "metadata": {},
          "execution_count": 19
        }
      ]
    },
    {
      "cell_type": "code",
      "metadata": {
        "colab": {
          "base_uri": "https://localhost:8080/"
        },
        "id": "n1cPNzxSaZEW",
        "outputId": "e4384863-34c6-4c5b-cf5e-42584dc7685f"
      },
      "source": [
        "np_a + np_c  #adding matrix to matrix"
      ],
      "execution_count": 20,
      "outputs": [
        {
          "output_type": "execute_result",
          "data": {
            "text/plain": [
              "array([[7, 7, 7],\n",
              "       [7, 7, 7]])"
            ]
          },
          "metadata": {},
          "execution_count": 20
        }
      ]
    },
    {
      "cell_type": "code",
      "metadata": {
        "colab": {
          "base_uri": "https://localhost:8080/"
        },
        "id": "73Bjj7oGabuQ",
        "outputId": "32a57437-72e3-4ea3-f82e-f765f2a2734a"
      },
      "source": [
        "np_a.shape"
      ],
      "execution_count": 21,
      "outputs": [
        {
          "output_type": "execute_result",
          "data": {
            "text/plain": [
              "(2, 3)"
            ]
          },
          "metadata": {},
          "execution_count": 21
        }
      ]
    },
    {
      "cell_type": "code",
      "metadata": {
        "colab": {
          "base_uri": "https://localhost:8080/"
        },
        "id": "r7aIdq2DahSm",
        "outputId": "63d7c398-01b1-47a5-c398-bb09e1f35f9c"
      },
      "source": [
        "np_c.shape"
      ],
      "execution_count": 22,
      "outputs": [
        {
          "output_type": "execute_result",
          "data": {
            "text/plain": [
              "(2, 3)"
            ]
          },
          "metadata": {},
          "execution_count": 22
        }
      ]
    },
    {
      "cell_type": "code",
      "metadata": {
        "colab": {
          "base_uri": "https://localhost:8080/"
        },
        "id": "otCHL9jbaiPl",
        "outputId": "08a67950-0aeb-48db-d37b-e774a21294d6"
      },
      "source": [
        "np_c.T.shape"
      ],
      "execution_count": 23,
      "outputs": [
        {
          "output_type": "execute_result",
          "data": {
            "text/plain": [
              "(3, 2)"
            ]
          },
          "metadata": {},
          "execution_count": 23
        }
      ]
    },
    {
      "cell_type": "code",
      "metadata": {
        "colab": {
          "base_uri": "https://localhost:8080/"
        },
        "id": "HMKam0CMalak",
        "outputId": "e9a512e2-0e3c-44e8-a1aa-afce8db2c253"
      },
      "source": [
        "np.dot(np_a,np_c.T)  #multipling matrix to matrix   (a,b) x (b,c) = (a,c)"
      ],
      "execution_count": 24,
      "outputs": [
        {
          "output_type": "execute_result",
          "data": {
            "text/plain": [
              "array([[28, 10],\n",
              "       [73, 28]])"
            ]
          },
          "metadata": {},
          "execution_count": 24
        }
      ]
    },
    {
      "cell_type": "markdown",
      "metadata": {
        "id": "Tw0NLn5UaqdE"
      },
      "source": [
        "##Indexing & Slicing"
      ]
    },
    {
      "cell_type": "code",
      "metadata": {
        "colab": {
          "base_uri": "https://localhost:8080/"
        },
        "id": "_E59jxRuarVX",
        "outputId": "dda50cf6-0f53-458f-beae-10070c5287a1"
      },
      "source": [
        "np_a"
      ],
      "execution_count": 25,
      "outputs": [
        {
          "output_type": "execute_result",
          "data": {
            "text/plain": [
              "array([[1, 2, 3],\n",
              "       [4, 5, 6]])"
            ]
          },
          "metadata": {},
          "execution_count": 25
        }
      ]
    },
    {
      "cell_type": "code",
      "metadata": {
        "colab": {
          "base_uri": "https://localhost:8080/"
        },
        "id": "Sm24vNNuauIH",
        "outputId": "e7a9c8a1-f183-4143-ea21-6202d859fb9a"
      },
      "source": [
        "np_a[1,1]"
      ],
      "execution_count": 26,
      "outputs": [
        {
          "output_type": "execute_result",
          "data": {
            "text/plain": [
              "5"
            ]
          },
          "metadata": {},
          "execution_count": 26
        }
      ]
    },
    {
      "cell_type": "code",
      "metadata": {
        "colab": {
          "base_uri": "https://localhost:8080/"
        },
        "id": "oK-GEri7awkG",
        "outputId": "a96641ee-73c7-4a7c-9cd8-7779aada44a3"
      },
      "source": [
        "np_a[:2,:2]"
      ],
      "execution_count": 27,
      "outputs": [
        {
          "output_type": "execute_result",
          "data": {
            "text/plain": [
              "array([[1, 2],\n",
              "       [4, 5]])"
            ]
          },
          "metadata": {},
          "execution_count": 27
        }
      ]
    },
    {
      "cell_type": "code",
      "metadata": {
        "colab": {
          "base_uri": "https://localhost:8080/"
        },
        "id": "f5zTrrYzay6k",
        "outputId": "c5591844-b221-4b5e-d633-5081af9e6781"
      },
      "source": [
        "np_a[0,:]"
      ],
      "execution_count": 28,
      "outputs": [
        {
          "output_type": "execute_result",
          "data": {
            "text/plain": [
              "array([1, 2, 3])"
            ]
          },
          "metadata": {},
          "execution_count": 28
        }
      ]
    },
    {
      "cell_type": "markdown",
      "metadata": {
        "id": "iynBPgjJa1-3"
      },
      "source": [
        "##Useful functions"
      ]
    },
    {
      "cell_type": "code",
      "metadata": {
        "colab": {
          "base_uri": "https://localhost:8080/"
        },
        "id": "j3o3SzRPa6Q6",
        "outputId": "daefb1bc-83d9-446b-8fa8-a0fa66dc0260"
      },
      "source": [
        "np_a"
      ],
      "execution_count": 29,
      "outputs": [
        {
          "output_type": "execute_result",
          "data": {
            "text/plain": [
              "array([[1, 2, 3],\n",
              "       [4, 5, 6]])"
            ]
          },
          "metadata": {},
          "execution_count": 29
        }
      ]
    },
    {
      "cell_type": "code",
      "metadata": {
        "colab": {
          "base_uri": "https://localhost:8080/"
        },
        "id": "RQ3RGXdza6dd",
        "outputId": "26bc7b68-b562-47e7-d01e-51f50b1a9880"
      },
      "source": [
        "np.sum(np_a)"
      ],
      "execution_count": 30,
      "outputs": [
        {
          "output_type": "execute_result",
          "data": {
            "text/plain": [
              "21"
            ]
          },
          "metadata": {},
          "execution_count": 30
        }
      ]
    },
    {
      "cell_type": "code",
      "metadata": {
        "colab": {
          "base_uri": "https://localhost:8080/"
        },
        "id": "73zmHcb2bAMS",
        "outputId": "922d05c2-ded7-4c67-a46d-75c3d8e2f38a"
      },
      "source": [
        "np.sum(np_a,axis=0)  # axis 0 ก็คือรวมเลขในแต่ละแถว"
      ],
      "execution_count": 31,
      "outputs": [
        {
          "output_type": "execute_result",
          "data": {
            "text/plain": [
              "array([5, 7, 9])"
            ]
          },
          "metadata": {},
          "execution_count": 31
        }
      ]
    },
    {
      "cell_type": "code",
      "metadata": {
        "colab": {
          "base_uri": "https://localhost:8080/"
        },
        "id": "EATqssi7bCVc",
        "outputId": "57801e60-3cb8-41d0-d0a0-2ce07c913700"
      },
      "source": [
        "np.sum(np_a,axis=1)  # axis 1 ก็คือรวมเลขในแต่ละหลัก"
      ],
      "execution_count": 32,
      "outputs": [
        {
          "output_type": "execute_result",
          "data": {
            "text/plain": [
              "array([ 6, 15])"
            ]
          },
          "metadata": {},
          "execution_count": 32
        }
      ]
    },
    {
      "cell_type": "code",
      "metadata": {
        "colab": {
          "base_uri": "https://localhost:8080/"
        },
        "id": "dasbFp24bF3U",
        "outputId": "4b6516ea-9c04-4912-c812-295c7d742ce7"
      },
      "source": [
        "np.mean(np_a)"
      ],
      "execution_count": 33,
      "outputs": [
        {
          "output_type": "execute_result",
          "data": {
            "text/plain": [
              "3.5"
            ]
          },
          "metadata": {},
          "execution_count": 33
        }
      ]
    },
    {
      "cell_type": "code",
      "metadata": {
        "colab": {
          "base_uri": "https://localhost:8080/"
        },
        "id": "djxODbS3bIH8",
        "outputId": "6aaa169a-df42-49ff-8d86-2191fe7ec538"
      },
      "source": [
        "np.mean(np_a,axis=0)  #หา mean ของ column"
      ],
      "execution_count": 34,
      "outputs": [
        {
          "output_type": "execute_result",
          "data": {
            "text/plain": [
              "array([2.5, 3.5, 4.5])"
            ]
          },
          "metadata": {},
          "execution_count": 34
        }
      ]
    },
    {
      "cell_type": "markdown",
      "metadata": {
        "id": "RAyZo0b0bKwX"
      },
      "source": [
        "##วนลูปเอง\n",
        "##summation\n"
      ]
    },
    {
      "cell_type": "code",
      "metadata": {
        "colab": {
          "base_uri": "https://localhost:8080/"
        },
        "id": "TzImBtqFbQfB",
        "outputId": "a5486b1d-c448-489c-e197-5528b469b021"
      },
      "source": [
        "np_a.shape"
      ],
      "execution_count": 35,
      "outputs": [
        {
          "output_type": "execute_result",
          "data": {
            "text/plain": [
              "(2, 3)"
            ]
          },
          "metadata": {},
          "execution_count": 35
        }
      ]
    },
    {
      "cell_type": "code",
      "metadata": {
        "colab": {
          "base_uri": "https://localhost:8080/"
        },
        "id": "ehAl7c_2bU_6",
        "outputId": "60708ab4-9522-49b3-fd6f-3f3d9e5c720a"
      },
      "source": [
        "sum_all = 0\n",
        "\n",
        "for row in range(np_a.shape[0]):\n",
        "    for col in range(np_a.shape[1]):\n",
        "        sum_all = sum_all + np_a[row,col]\n",
        "        print(f'we are at row={row},col={col} np_a[{row},{col}]={np_a[row,col]}  sum_all={sum_all}')\n",
        "print(sum_all)"
      ],
      "execution_count": 36,
      "outputs": [
        {
          "output_type": "stream",
          "name": "stdout",
          "text": [
            "we are at row=0,col=0 np_a[0,0]=1  sum_all=1\n",
            "we are at row=0,col=1 np_a[0,1]=2  sum_all=3\n",
            "we are at row=0,col=2 np_a[0,2]=3  sum_all=6\n",
            "we are at row=1,col=0 np_a[1,0]=4  sum_all=10\n",
            "we are at row=1,col=1 np_a[1,1]=5  sum_all=15\n",
            "we are at row=1,col=2 np_a[1,2]=6  sum_all=21\n",
            "21\n"
          ]
        }
      ]
    },
    {
      "cell_type": "code",
      "metadata": {
        "colab": {
          "base_uri": "https://localhost:8080/"
        },
        "id": "8G-D1w5SbV2O",
        "outputId": "723a81cc-af98-472f-bf80-4d3ab54eb3c3"
      },
      "source": [
        "sum_all = np.zeros(np_a.shape[1])\n",
        "\n",
        "for row in range(np_a.shape[0]):\n",
        "    for col in range(np_a.shape[1]):\n",
        "        sum_all[col] = sum_all[col] + np_a[row,col]\n",
        "print(sum_all)"
      ],
      "execution_count": 37,
      "outputs": [
        {
          "output_type": "stream",
          "name": "stdout",
          "text": [
            "[5. 7. 9.]\n"
          ]
        }
      ]
    },
    {
      "cell_type": "markdown",
      "metadata": {
        "id": "vbS6kCVwbYyF"
      },
      "source": [
        ""
      ]
    },
    {
      "cell_type": "markdown",
      "metadata": {
        "id": "aRtf772zTEVi"
      },
      "source": [
        "##Quiz กลุ่ม\n",
        "\n",
        "วนลูปหาค่า\n",
        "\n",
        "1. np.sum(np_a,axis=1)\n",
        "\n",
        "2. np.mean(np_a)\n",
        "\n",
        "3. np.mean(np_a,axis=0)\n",
        "\n",
        "4. np.mean(np_a,axis=1)\n",
        "\n",
        "5. np.max(np_a)\n",
        "\n",
        "6. np.max(np_a,axis=0)\n",
        "\n",
        "7. np.max(np_a,axis=1)\n",
        "\n",
        "8. np.min(np_a)\n",
        "\n",
        "9. np.min(np_a,axis=0)\n",
        "\n",
        "10. np.min(np_a,axis=1)\n"
      ]
    },
    {
      "cell_type": "code",
      "metadata": {
        "colab": {
          "base_uri": "https://localhost:8080/"
        },
        "id": "T7W9w6tcbk1j",
        "outputId": "f9c38af0-67bf-4b74-ff25-9ae16f511bcd"
      },
      "source": [
        "sum_all = np.zeros(np_a.shape[0])\n",
        "\n",
        "for row in range(np_a.shape[0]):\n",
        "    for col in range(np_a.shape[1]):\n",
        "        sum_all[row] = sum_all[row] + np_a[row,col]     \n",
        "print(sum_all)"
      ],
      "execution_count": 38,
      "outputs": [
        {
          "output_type": "stream",
          "name": "stdout",
          "text": [
            "[ 6. 15.]\n"
          ]
        }
      ]
    },
    {
      "cell_type": "code",
      "metadata": {
        "id": "6I_k3c78TDz3",
        "colab": {
          "base_uri": "https://localhost:8080/"
        },
        "outputId": "239e851f-e18f-4277-e955-5fd2f204583a"
      },
      "source": [
        "mean_all = 0\n",
        "for row in range(np_a.shape[0]):\n",
        "    for col in range(np_a.shape[1]):\n",
        "        mean_all = mean_all + np_a[row,col]\n",
        "mean_all = mean_all/(np_a.shape[0]*np_a.shape[1])\n",
        "print(mean_all)"
      ],
      "execution_count": 39,
      "outputs": [
        {
          "output_type": "stream",
          "name": "stdout",
          "text": [
            "3.5\n"
          ]
        }
      ]
    },
    {
      "cell_type": "code",
      "metadata": {
        "id": "D0Jho_DETjiq",
        "colab": {
          "base_uri": "https://localhost:8080/"
        },
        "outputId": "a876d5ac-490e-4c37-c0e8-e590c01631f0"
      },
      "source": [
        "mean_all = np.zeros(np_a.shape[1])\n",
        "\n",
        "for row in range(np_a.shape[0]):\n",
        "    for col in range(np_a.shape[1]):\n",
        "        mean_all[col] = mean_all[col] + np_a[row,col]/np_a.shape[0]\n",
        "print(mean_all)"
      ],
      "execution_count": 40,
      "outputs": [
        {
          "output_type": "stream",
          "name": "stdout",
          "text": [
            "[2.5 3.5 4.5]\n"
          ]
        }
      ]
    },
    {
      "cell_type": "code",
      "metadata": {
        "id": "vn3PVSICTjtH",
        "colab": {
          "base_uri": "https://localhost:8080/"
        },
        "outputId": "ca282016-057d-4f0a-9011-9cd2d46a1f57"
      },
      "source": [
        "sum_all = np.zeros(np_a.shape[0])\n",
        "\n",
        "for row in range(np_a.shape[0]):\n",
        "    for col in range(np_a.shape[1]):\n",
        "        sum_all[row] = sum_all[row] + np_a[row,col]\n",
        "sum_all = sum_all/np_a.shape[1]\n",
        "print(sum_all)"
      ],
      "execution_count": 41,
      "outputs": [
        {
          "output_type": "stream",
          "name": "stdout",
          "text": [
            "[2. 5.]\n"
          ]
        }
      ]
    },
    {
      "cell_type": "code",
      "metadata": {
        "id": "uiPxFj9Fbe8H",
        "colab": {
          "base_uri": "https://localhost:8080/"
        },
        "outputId": "bf176671-0cad-4594-f34d-8c1632ce49ae"
      },
      "source": [
        "\n",
        "max_a = -100000000\n",
        "for row in range(np_a.shape[0]):\n",
        "    for col in range(np_a.shape[1]):\n",
        "        if np_a[row,col] > max_a :\n",
        "            max_a = np_a[row,col]\n",
        "print(max_a)"
      ],
      "execution_count": 42,
      "outputs": [
        {
          "output_type": "stream",
          "name": "stdout",
          "text": [
            "6\n"
          ]
        }
      ]
    },
    {
      "cell_type": "code",
      "metadata": {
        "id": "xEHdemHGTuBh",
        "colab": {
          "base_uri": "https://localhost:8080/"
        },
        "outputId": "d7b15a49-0398-4e9c-ed68-d27948c70a74"
      },
      "source": [
        "max_all = -100000 * np.ones(np_a.shape[1])\n",
        "for col in range(np_a.shape[1]):\n",
        "    for row in range(np_a.shape[0]):\n",
        "        if np_a[row,col] > max_all[col]: \n",
        "            max_all[col] = np_a[row,col]\n",
        "print(max_all)"
      ],
      "execution_count": 43,
      "outputs": [
        {
          "output_type": "stream",
          "name": "stdout",
          "text": [
            "[4. 5. 6.]\n"
          ]
        }
      ]
    },
    {
      "cell_type": "code",
      "metadata": {
        "id": "SESDt1B0Tw_v",
        "colab": {
          "base_uri": "https://localhost:8080/"
        },
        "outputId": "97365757-f05f-4cc2-d0be-b2942e6ae7b9"
      },
      "source": [
        "max_all = np.zeros(np_a.shape[0])\n",
        "for row in range(np_a.shape[0]):\n",
        "    max_all[row] = max(np_a[row,:])\n",
        "print(max_all)"
      ],
      "execution_count": 44,
      "outputs": [
        {
          "output_type": "stream",
          "name": "stdout",
          "text": [
            "[3. 6.]\n"
          ]
        }
      ]
    },
    {
      "cell_type": "code",
      "metadata": {
        "id": "UxLP5dczT3c0",
        "colab": {
          "base_uri": "https://localhost:8080/"
        },
        "outputId": "36125e85-eff2-4cf2-c474-ccd5ceaa8454"
      },
      "source": [
        "minV = 100000\n",
        "for row in range(np_a.shape[0]):\n",
        "    for col in range(np_a.shape[1]):\n",
        "        if np_a[row,col] < minV:\n",
        "            minV = np_a[row,col]\n",
        "print(minV)"
      ],
      "execution_count": 45,
      "outputs": [
        {
          "output_type": "stream",
          "name": "stdout",
          "text": [
            "1\n"
          ]
        }
      ]
    },
    {
      "cell_type": "code",
      "metadata": {
        "id": "v05M2TVDT576",
        "colab": {
          "base_uri": "https://localhost:8080/"
        },
        "outputId": "86bc6209-1eca-4534-e07e-23d5a5b77c7b"
      },
      "source": [
        "min_all = np.zeros(np_a.shape[1])\n",
        "\n",
        "for col in range(np_a.shape[1]):\n",
        "    min_all[col] = min(np_a[:,col])\n",
        "print(min_all)"
      ],
      "execution_count": 46,
      "outputs": [
        {
          "output_type": "stream",
          "name": "stdout",
          "text": [
            "[1. 2. 3.]\n"
          ]
        }
      ]
    },
    {
      "cell_type": "code",
      "metadata": {
        "id": "sTdU-aE4T898",
        "colab": {
          "base_uri": "https://localhost:8080/"
        },
        "outputId": "ba528eea-49b8-418f-d67c-6db474bc9940"
      },
      "source": [
        "min_row = np.zeros(np_a.shape[0])\n",
        "for row in range(np_a.shape[0]):\n",
        "   min_row[row] = min(np_a[row,:])\n",
        "print(min_row)"
      ],
      "execution_count": 47,
      "outputs": [
        {
          "output_type": "stream",
          "name": "stdout",
          "text": [
            "[1. 4.]\n"
          ]
        }
      ]
    },
    {
      "cell_type": "code",
      "metadata": {
        "id": "9ZnXYeb9l6kD",
        "colab": {
          "base_uri": "https://localhost:8080/"
        },
        "outputId": "5baad75c-6c8c-498c-c844-988b9369e267"
      },
      "source": [
        "data1 = np.array([[1,2],[3,5],[2,0],[4,5]])\n",
        "data1"
      ],
      "execution_count": 48,
      "outputs": [
        {
          "output_type": "execute_result",
          "data": {
            "text/plain": [
              "array([[1, 2],\n",
              "       [3, 5],\n",
              "       [2, 0],\n",
              "       [4, 5]])"
            ]
          },
          "metadata": {},
          "execution_count": 48
        }
      ]
    },
    {
      "cell_type": "code",
      "metadata": {
        "id": "veZS4z_al7oY",
        "colab": {
          "base_uri": "https://localhost:8080/",
          "height": 283
        },
        "outputId": "94f9eb33-8603-4d73-fe85-94a5c947f986"
      },
      "source": [
        "from matplotlib import pyplot as plt\n",
        "plt.scatter(data1[:,0],data1[:,1])"
      ],
      "execution_count": 49,
      "outputs": [
        {
          "output_type": "execute_result",
          "data": {
            "text/plain": [
              "<matplotlib.collections.PathCollection at 0x7f767d91a810>"
            ]
          },
          "metadata": {},
          "execution_count": 49
        },
        {
          "output_type": "display_data",
          "data": {
            "image/png": "[encoded data removed]",
            "text/plain": [
              "<Figure size 432x288 with 1 Axes>"
            ]
          },
          "metadata": {
            "needs_background": "light"
          }
        }
      ]
    },
    {
      "cell_type": "markdown",
      "metadata": {
        "id": "-kvEB88jlmg0"
      },
      "source": [
        "##Euclidean Distance (L2-norm)"
      ]
    },
    {
      "cell_type": "code",
      "metadata": {
        "id": "Js6IMWVllr45",
        "colab": {
          "base_uri": "https://localhost:8080/"
        },
        "outputId": "c25b5449-d147-44d3-a3b8-68ab68390885"
      },
      "source": [
        "dist_p1_p2 = np.sqrt(np.power(data1[0,0]-data1[1,0],2) + np.power(data1[0,1]-data1[1,1],2))\n",
        "dist_p1_p2"
      ],
      "execution_count": 50,
      "outputs": [
        {
          "output_type": "execute_result",
          "data": {
            "text/plain": [
              "3.605551275463989"
            ]
          },
          "metadata": {},
          "execution_count": 50
        }
      ]
    },
    {
      "cell_type": "code",
      "metadata": {
        "id": "O35b5C8glvYk",
        "colab": {
          "base_uri": "https://localhost:8080/"
        },
        "outputId": "d7980b1e-be77-475a-df61-0b2d9d07de2c"
      },
      "source": [
        "dist_p1_p2 = np.power(np.power(data1[0,0]-data1[1,0],2) + np.power(data1[0,1]-data1[1,1],2),0.5)\n",
        "dist_p1_p2"
      ],
      "execution_count": 51,
      "outputs": [
        {
          "output_type": "execute_result",
          "data": {
            "text/plain": [
              "3.605551275463989"
            ]
          },
          "metadata": {},
          "execution_count": 51
        }
      ]
    },
    {
      "cell_type": "code",
      "metadata": {
        "id": "H9Y6e36Xl01m",
        "colab": {
          "base_uri": "https://localhost:8080/"
        },
        "outputId": "16221f46-a1f9-40df-924c-e91597c20b57"
      },
      "source": [
        "dist_p2_p4 = np.sqrt(np.power(data1[1,0]-data1[3,0],2) + np.power(data1[1,1]-data1[3,1],2))\n",
        "dist_p2_p4"
      ],
      "execution_count": 52,
      "outputs": [
        {
          "output_type": "execute_result",
          "data": {
            "text/plain": [
              "1.0"
            ]
          },
          "metadata": {},
          "execution_count": 52
        }
      ]
    },
    {
      "cell_type": "markdown",
      "metadata": {
        "id": "mtegoU4fW9Bj"
      },
      "source": [
        "##Distance function\n",
        "\n",
        "p1 = [x,y]\n",
        "\n",
        "dim = 2"
      ]
    },
    {
      "cell_type": "code",
      "metadata": {
        "id": "iKOXfwVwXADK"
      },
      "source": [
        "def dist_l2_2(p1,p2):\n",
        "    return np.sqrt(np.power(p1[0]-p2[0],2) + np.power(p1[1]-p1[1],2))"
      ],
      "execution_count": 53,
      "outputs": []
    },
    {
      "cell_type": "code",
      "metadata": {
        "id": "xemXbMgXlheI",
        "colab": {
          "base_uri": "https://localhost:8080/"
        },
        "outputId": "4d01e93a-987f-456b-c47a-3f17c56e0224"
      },
      "source": [
        "dist_l2_2(data1[0,:],data1[1,:]) # จุดที่ 1,2"
      ],
      "execution_count": 54,
      "outputs": [
        {
          "output_type": "execute_result",
          "data": {
            "text/plain": [
              "2.0"
            ]
          },
          "metadata": {},
          "execution_count": 54
        }
      ]
    },
    {
      "cell_type": "code",
      "metadata": {
        "colab": {
          "base_uri": "https://localhost:8080/"
        },
        "id": "SRZGxwYvXIds",
        "outputId": "93e0e7e8-a58f-4dd9-d048-f70c1e29ed93"
      },
      "source": [
        "dist_l2_2(data1[1,:],data1[3,:]) # จุดที่ 2,4"
      ],
      "execution_count": 55,
      "outputs": [
        {
          "output_type": "execute_result",
          "data": {
            "text/plain": [
              "1.0"
            ]
          },
          "metadata": {},
          "execution_count": 55
        }
      ]
    },
    {
      "cell_type": "markdown",
      "metadata": {
        "id": "JEdy_jKsXT0B"
      },
      "source": [
        "*dim = n*"
      ]
    },
    {
      "cell_type": "code",
      "metadata": {
        "id": "6eYNuAVSXVzP"
      },
      "source": [
        "def dist_l2_n(p1,p2):\n",
        "    sum = 0\n",
        "    for i in range(len(p1)):\n",
        "        sum = sum + np.power(p1[i]-p2[i],2)\n",
        "    return np.sqrt(sum)"
      ],
      "execution_count": 56,
      "outputs": []
    },
    {
      "cell_type": "code",
      "metadata": {
        "colab": {
          "base_uri": "https://localhost:8080/"
        },
        "id": "zkfZewnUXYVn",
        "outputId": "5f6918db-d0c7-4bd7-d4c9-0e27d60ef161"
      },
      "source": [
        "dist_l2_n(data1[0,:],data1[1,:])"
      ],
      "execution_count": 57,
      "outputs": [
        {
          "output_type": "execute_result",
          "data": {
            "text/plain": [
              "3.605551275463989"
            ]
          },
          "metadata": {},
          "execution_count": 57
        }
      ]
    },
    {
      "cell_type": "markdown",
      "metadata": {
        "id": "19LDJxdkXesi"
      },
      "source": [
        "##Manhattan Distance (L1-norm)\n",
        "\n",
        "|x_1-x_2|+|y_1-y_2|\n",
        "\n",
        "##Quiz 6\n",
        "เขียน function คำนวณ manhattan distance ของ ข้อมูล 2 dimensions"
      ]
    },
    {
      "cell_type": "code",
      "metadata": {
        "id": "yhljklzeXkwE"
      },
      "source": [
        "def dist_l1_2(p1,p2):\n",
        "    return np.abs((p1[0] - p2[0]) + (p1[1] - p2[1]))"
      ],
      "execution_count": 58,
      "outputs": []
    },
    {
      "cell_type": "code",
      "metadata": {
        "colab": {
          "base_uri": "https://localhost:8080/"
        },
        "id": "jvdeGNJcXodz",
        "outputId": "df6f85d8-f1e4-4615-bdde-daca96b3f43d"
      },
      "source": [
        "dist_l1_2(data1[0,:],data1[1,:])"
      ],
      "execution_count": 59,
      "outputs": [
        {
          "output_type": "execute_result",
          "data": {
            "text/plain": [
              "5"
            ]
          },
          "metadata": {},
          "execution_count": 59
        }
      ]
    },
    {
      "cell_type": "markdown",
      "metadata": {
        "id": "a5ZYOJqiX3E_"
      },
      "source": [
        "##Hw11\n",
        "\n",
        "Function คำนวณ manhattan distance ของ ข้อมูล N dimensions\n",
        "\n",
        "Function คำนวณ L-$\\infty$ ของ ข้อมูล N dimensions\n",
        "\n",
        "Function คำนวณ Distance Matrix ด้วย Euclidean Distance (bonus)"
      ]
    },
    {
      "cell_type": "markdown",
      "metadata": {
        "id": "EGZZYXQUYEEa"
      },
      "source": [
        "##ข้อ 1"
      ]
    },
    {
      "cell_type": "code",
      "metadata": {
        "id": "knKcZWIQX5d9"
      },
      "source": [
        "def dist_l1_N(p1,p2):\n",
        "    sum = 0\n",
        "    for i in range(len(p1)):\n",
        "        sum =  sum + np.abs(p1[i] - p2[i]) \n",
        "    return np.abs(sum)"
      ],
      "execution_count": 60,
      "outputs": []
    },
    {
      "cell_type": "code",
      "metadata": {
        "colab": {
          "base_uri": "https://localhost:8080/"
        },
        "id": "cRCi-q3LYDEb",
        "outputId": "6b7775f0-d5b2-453b-de53-c3b581a3368a"
      },
      "source": [
        "dist_l1_N(data1[0,:],data1[1,:])"
      ],
      "execution_count": 61,
      "outputs": [
        {
          "output_type": "execute_result",
          "data": {
            "text/plain": [
              "5"
            ]
          },
          "metadata": {},
          "execution_count": 61
        }
      ]
    },
    {
      "cell_type": "markdown",
      "metadata": {
        "id": "Sf51tXQoYKUP"
      },
      "source": [
        "##ข้อ 2"
      ]
    },
    {
      "cell_type": "code",
      "metadata": {
        "id": "9xrdBlqoX5ml"
      },
      "source": [
        "def dist_lI_N(p1,p2):\n",
        "    return np.maximum(np.abs(p1[0] - p2[0]) , np.abs(p1[1] - p2[1]))"
      ],
      "execution_count": 63,
      "outputs": []
    },
    {
      "cell_type": "code",
      "metadata": {
        "colab": {
          "base_uri": "https://localhost:8080/"
        },
        "id": "p12ZKdajYY7Y",
        "outputId": "95580d65-49d4-4a11-ed29-823318fbcfb7"
      },
      "source": [
        "dist_lI_N(data1[0,:],data1[1,:])"
      ],
      "execution_count": 64,
      "outputs": [
        {
          "output_type": "execute_result",
          "data": {
            "text/plain": [
              "3"
            ]
          },
          "metadata": {},
          "execution_count": 64
        }
      ]
    },
    {
      "cell_type": "code",
      "metadata": {
        "id": "YjgwfoYqX5sT"
      },
      "source": [
        "def dist_lI_N(p1,p2):\n",
        "    for i in range(len(p1)):\n",
        "        sum = np.maximum(np.abs(p1[i] - p2[i]),np.abs(p1[i] - p2[i]))\n",
        "    return  (sum)"
      ],
      "execution_count": 65,
      "outputs": []
    },
    {
      "cell_type": "code",
      "metadata": {
        "colab": {
          "base_uri": "https://localhost:8080/"
        },
        "id": "1VIyvaO6YdqD",
        "outputId": "39c7f4df-8439-4bc1-f528-9fdc91954241"
      },
      "source": [
        "dist_lI_N(data1[0,:],data1[1,:])"
      ],
      "execution_count": 66,
      "outputs": [
        {
          "output_type": "execute_result",
          "data": {
            "text/plain": [
              "3"
            ]
          },
          "metadata": {},
          "execution_count": 66
        }
      ]
    },
    {
      "cell_type": "markdown",
      "metadata": {
        "id": "gdesjTRmY2aJ"
      },
      "source": [
        "##ข้อ 3"
      ]
    },
    {
      "cell_type": "code",
      "metadata": {
        "id": "6jQZYR7oYd1U"
      },
      "source": [
        ""
      ],
      "execution_count": null,
      "outputs": []
    },
    {
      "cell_type": "code",
      "metadata": {
        "id": "YrUyWuvbYd47"
      },
      "source": [
        ""
      ],
      "execution_count": null,
      "outputs": []
    }
  ]
}