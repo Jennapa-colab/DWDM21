{
  "nbformat": 4,
  "nbformat_minor": 0,
  "metadata": {
    "colab": {
      "name": "Project_SUKUNA.ipynb.ipynb",
      "provenance": [],
      "authorship_tag": "ABX9TyM0oVMe5pREes8VzXZeVX/H",
      "include_colab_link": true
    },
    "kernelspec": {
      "name": "python3",
      "display_name": "Python 3"
    },
    "language_info": {
      "name": "python"
    }
  },
  "cells": [
    {
      "cell_type": "markdown",
      "metadata": {
        "id": "view-in-github",
        "colab_type": "text"
      },
      "source": [
        "<a href=\"https://colab.research.google.com/github/Jennapa-colab/DWDM21/blob/main/Project_SUKUNA_ipynb.ipynb\" target=\"_parent\"><img src=\"https://colab.research.google.com/assets/colab-badge.svg\" alt=\"Open In Colab\"/></a>"
      ]
    },
    {
      "cell_type": "markdown",
      "metadata": {
        "id": "wl0kYoUVhWE0"
      },
      "source": [
        "##Project กลุ่ม\n",
        "\n",
        "•present วันที่ 31 สิงหาคม 2564\n",
        "\n",
        "•ข้อมูลที่ไปดึงมาจาก 3 แหล่ง\n",
        "\n",
        "•แสดงวิธีการโหลด\n",
        "\n",
        "•ความเชื่อมโยงของ 3 ตาราง (index)"
      ]
    },
    {
      "cell_type": "code",
      "metadata": {
        "id": "UWiWMe6phghW"
      },
      "source": [
        "import pandas as pd"
      ],
      "execution_count": null,
      "outputs": []
    },
    {
      "cell_type": "code",
      "metadata": {
        "id": "9klUSrvwhiHb"
      },
      "source": [
        "from google.colab import drive\n",
        "drive.mount('/content/drive')"
      ],
      "execution_count": null,
      "outputs": []
    },
    {
      "cell_type": "code",
      "metadata": {
        "id": "2U_dcOQUhc2J"
      },
      "source": [
        "import os"
      ],
      "execution_count": null,
      "outputs": []
    },
    {
      "cell_type": "code",
      "metadata": {
        "id": "R_8kL1aGhsVQ"
      },
      "source": [
        "path = '/content/drive/My Drive/DWDM2021_DATA'"
      ],
      "execution_count": null,
      "outputs": []
    },
    {
      "cell_type": "code",
      "metadata": {
        "id": "pRcHszqMhsgy"
      },
      "source": [
        "population = pd.read_csv(os.path.join(path, 'population.csv'))\n",
        "garbage = pd.read_csv(os.path.join(path, 'garbage.csv'))\n",
        "moveinmoveout = pd.read_csv(os.path.join(path, 'moveinmoveout.csv'))"
      ],
      "execution_count": null,
      "outputs": []
    },
    {
      "cell_type": "code",
      "metadata": {
        "id": "XLyqCYwChyL6"
      },
      "source": [
        "population"
      ],
      "execution_count": null,
      "outputs": []
    },
    {
      "cell_type": "code",
      "metadata": {
        "id": "S3rczuuBhyXA"
      },
      "source": [
        "garbage"
      ],
      "execution_count": null,
      "outputs": []
    },
    {
      "cell_type": "code",
      "metadata": {
        "id": "-fH4y6Ghh35E"
      },
      "source": [
        "moveinmoveout"
      ],
      "execution_count": null,
      "outputs": []
    },
    {
      "cell_type": "markdown",
      "metadata": {
        "id": "6EmPfMXPiGmA"
      },
      "source": [
        "##หา Missing Value"
      ]
    },
    {
      "cell_type": "code",
      "metadata": {
        "id": "4i9uwzkGh4F2"
      },
      "source": [
        "population.isnull()"
      ],
      "execution_count": null,
      "outputs": []
    },
    {
      "cell_type": "code",
      "metadata": {
        "id": "19h0HyW1iLTc"
      },
      "source": [
        "population.isnull().any()"
      ],
      "execution_count": null,
      "outputs": []
    },
    {
      "cell_type": "markdown",
      "metadata": {
        "id": "7rWtD6sZiS7Q"
      },
      "source": [
        "*จากการตรวจสอบค่า Missing พบว่า ไม่มีค่าไหนในตารางที่มีช่องว่างเลย*"
      ]
    },
    {
      "cell_type": "code",
      "metadata": {
        "id": "5LwiL70niUVr"
      },
      "source": [
        "garbage.isnull().any()"
      ],
      "execution_count": null,
      "outputs": []
    },
    {
      "cell_type": "markdown",
      "metadata": {
        "id": "O0AsM0klibEJ"
      },
      "source": [
        "*จากการตรวจสอบค่า Missing พบว่า ไม่มีค่าไหนในตารางที่มีช่องว่างเลย*"
      ]
    },
    {
      "cell_type": "code",
      "metadata": {
        "id": "e5ZnU8ARicQF"
      },
      "source": [
        "moveinmoveout.isnull().any()"
      ],
      "execution_count": null,
      "outputs": []
    },
    {
      "cell_type": "markdown",
      "metadata": {
        "id": "lGwyEg6aihNw"
      },
      "source": [
        "*จากการตรวจสอบค่า Missing พบว่า ไม่มีค่าไหนในตารางที่มีช่องว่างเลย*\n",
        "\n",
        "##ตัด coloum population60 ออกเนื่องจากข้อมูลมีค่าเป็น 0 นั่นคือ ข้อมูลไม่เป็นความจริง"
      ]
    },
    {
      "cell_type": "code",
      "metadata": {
        "id": "DvP_qdv3ij-Q"
      },
      "source": [
        "population.drop(['population60'], axis=1, inplace=True)"
      ],
      "execution_count": null,
      "outputs": []
    },
    {
      "cell_type": "code",
      "metadata": {
        "id": "GOGTwpFAiL_J"
      },
      "source": [
        "population"
      ],
      "execution_count": null,
      "outputs": []
    },
    {
      "cell_type": "code",
      "metadata": {
        "id": "tn0WRuW8iMI1"
      },
      "source": [
        ""
      ],
      "execution_count": null,
      "outputs": []
    },
    {
      "cell_type": "markdown",
      "metadata": {
        "id": "d0ZpcXNoirBy"
      },
      "source": [
        "##ตัด coloumn ตั้งแต่ปี 48-52 ออก เพราะต้องการตั้งแต่ปี 53"
      ]
    },
    {
      "cell_type": "code",
      "metadata": {
        "id": "8FgjWC3niu6A"
      },
      "source": [
        "population.drop(['population48', 'population49', 'population50' ,'population51' ,'population52'], axis=1, inplace=True)"
      ],
      "execution_count": null,
      "outputs": []
    },
    {
      "cell_type": "code",
      "metadata": {
        "id": "QAam01ATjNgh"
      },
      "source": [
        "population"
      ],
      "execution_count": null,
      "outputs": []
    },
    {
      "cell_type": "markdown",
      "metadata": {
        "id": "7KYfK5BFjSVb"
      },
      "source": [
        "##ตัด coloum ของปี 60 ออกทั้งตาราง garbage และ moveinmoveout"
      ]
    },
    {
      "cell_type": "code",
      "metadata": {
        "id": "5pB_4zLQjTOa"
      },
      "source": [
        "garbage.drop(['garbage60','garbageperday60'], axis=1, inplace=True)"
      ],
      "execution_count": null,
      "outputs": []
    },
    {
      "cell_type": "code",
      "metadata": {
        "id": "_q2QNH2fjWYl"
      },
      "source": [
        "garbage"
      ],
      "execution_count": null,
      "outputs": []
    },
    {
      "cell_type": "code",
      "metadata": {
        "id": "E0-EyxE3jZJW"
      },
      "source": [
        "moveinmoveout.drop(['movein60','moveout60'], axis=1, inplace=True)"
      ],
      "execution_count": null,
      "outputs": []
    },
    {
      "cell_type": "code",
      "metadata": {
        "id": "uf6rdHPNjcyf"
      },
      "source": [
        "moveinmoveout"
      ],
      "execution_count": null,
      "outputs": []
    },
    {
      "cell_type": "markdown",
      "metadata": {
        "id": "gVcnsmW2jhGV"
      },
      "source": [
        ""
      ]
    },
    {
      "cell_type": "code",
      "metadata": {
        "id": "-47QS50ejhtU"
      },
      "source": [
        ""
      ],
      "execution_count": null,
      "outputs": []
    }
  ]
}