{
  "nbformat": 4,
  "nbformat_minor": 0,
  "metadata": {
    "colab": {
      "name": "Project_SUKUNA.ipynb.ipynb",
      "provenance": [],
      "authorship_tag": "ABX9TyMFC6osZdo/Zrwi/L11CGlW",
      "include_colab_link": true
    },
    "kernelspec": {
      "name": "python3",
      "display_name": "Python 3"
    },
    "language_info": {
      "name": "python"
    }
  },
  "cells": [
    {
      "cell_type": "markdown",
      "metadata": {
        "id": "view-in-github",
        "colab_type": "text"
      },
      "source": [
        "<a href=\"https://colab.research.google.com/github/Jennapa-colab/DWDM21/blob/main/Project_SUKUNA_ipynb.ipynb\" target=\"_parent\"><img src=\"https://colab.research.google.com/assets/colab-badge.svg\" alt=\"Open In Colab\"/></a>"
      ]
    },
    {
      "cell_type": "markdown",
      "metadata": {
        "id": "wl0kYoUVhWE0"
      },
      "source": [
        "##Project กลุ่ม\n",
        "\n",
        "•present วันที่ 31 สิงหาคม 2564\n",
        "\n",
        "•ข้อมูลที่ไปดึงมาจาก 3 แหล่ง\n",
        "\n",
        "•แสดงวิธีการโหลด\n",
        "\n",
        "•ความเชื่อมโยงของ 3 ตาราง (index)"
      ]
    },
    {
      "cell_type": "code",
      "metadata": {
        "id": "UWiWMe6phghW"
      },
      "source": [
        "import pandas as pd"
      ],
      "execution_count": null,
      "outputs": []
    },
    {
      "cell_type": "code",
      "metadata": {
        "id": "9klUSrvwhiHb"
      },
      "source": [
        "from google.colab import drive\n",
        "drive.mount('/content/drive')"
      ],
      "execution_count": null,
      "outputs": []
    },
    {
      "cell_type": "code",
      "metadata": {
        "id": "2U_dcOQUhc2J"
      },
      "source": [
        "import os"
      ],
      "execution_count": null,
      "outputs": []
    },
    {
      "cell_type": "code",
      "metadata": {
        "id": "R_8kL1aGhsVQ"
      },
      "source": [
        "path = '/content/drive/My Drive/DWDM2021_DATA'"
      ],
      "execution_count": null,
      "outputs": []
    },
    {
      "cell_type": "code",
      "metadata": {
        "id": "pRcHszqMhsgy"
      },
      "source": [
        "population = pd.read_csv(os.path.join(path, 'population.csv'))\n",
        "garbage = pd.read_csv(os.path.join(path, 'garbage.csv'))\n",
        "moveinmoveout = pd.read_csv(os.path.join(path, 'moveinmoveout.csv'))"
      ],
      "execution_count": null,
      "outputs": []
    },
    {
      "cell_type": "code",
      "metadata": {
        "id": "XLyqCYwChyL6"
      },
      "source": [
        "population"
      ],
      "execution_count": null,
      "outputs": []
    },
    {
      "cell_type": "code",
      "metadata": {
        "id": "S3rczuuBhyXA"
      },
      "source": [
        "garbage"
      ],
      "execution_count": null,
      "outputs": []
    },
    {
      "cell_type": "code",
      "metadata": {
        "id": "-fH4y6Ghh35E"
      },
      "source": [
        "moveinmoveout"
      ],
      "execution_count": null,
      "outputs": []
    },
    {
      "cell_type": "code",
      "metadata": {
        "id": "4i9uwzkGh4F2"
      },
      "source": [
        ""
      ],
      "execution_count": null,
      "outputs": []
    }
  ]
}